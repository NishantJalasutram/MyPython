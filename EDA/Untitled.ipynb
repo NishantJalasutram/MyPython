{
 "cells": [
  {
   "cell_type": "code",
   "execution_count": null,
   "metadata": {},
   "outputs": [],
   "source": [
    "# Getting overall loan gender distribution\n",
    "\n",
    "loan_gender_distribution = loan_data.groupby('CODE_GENDER').count()['TARGET']\n",
    "loan_Male_Percent = round(loan_gender_distribution['M']*100/(loan_gender_distribution['F']+loan_gender_distribution['M']),2)\n",
    "loan_Male_Percent\n",
    "loan_FeMale_Percent = round(loan_gender_distribution['F']*100/(loan_gender_distribution['F']+loan_gender_distribution['M']),2)\n",
    "loan_FeMale_Percent"
   ]
  },
  {
   "cell_type": "code",
   "execution_count": null,
   "metadata": {},
   "outputs": [],
   "source": [
    "# Getting loan gender distribution in paid cases\n",
    "\n",
    "loan_0_gender_distribution = loan_data_target0_Gender.groupby('CODE_GENDER').count()['TARGET']\n",
    "#loan_0_gender_distribution\n",
    "\n",
    "loan_0_Male_Percent = round(loan_0_gender_distribution['M']*100/(loan_gender_distribution['M']),2)\n",
    "loan_0_Male_Percent\n",
    "loan_0_FeMale_Percent = round(loan_0_gender_distribution['F']*100/(loan_gender_distribution['F']),2)\n",
    "loan_0_FeMale_Percent\n",
    "loan_0_Male_Percent"
   ]
  },
  {
   "cell_type": "code",
   "execution_count": null,
   "metadata": {},
   "outputs": [],
   "source": [
    "plt.figure(figsize=[12,9])\n",
    "plt.subplot(1,2,1)\n",
    "loan_data_target0.groupby('CODE_GENDER').count()['TARGET']/loan_data_target0.shape(0).plot(kind='bar')\n",
    "\n",
    "plt.subplot(1,2,2)\n",
    "loan_data_target1.groupby('CODE_GENDER').count()['TARGET'].plot(kind='bar')\n",
    "plt.show()"
   ]
  },
  {
   "cell_type": "code",
   "execution_count": null,
   "metadata": {},
   "outputs": [],
   "source": [
    "# Getting loan gender distribution in defaulted cases\n",
    "\n",
    "loan_1_gender_distribution = loan_data_target1_Gender.groupby('CODE_GENDER').count()['TARGET']\n",
    "#loan_1_gender_distribution\n",
    "\n",
    "loan_1_Male_Percent = round(loan_1_gender_distribution['M']*100/(loan_gender_distribution['M']),2)\n",
    "loan_1_Male_Percent\n",
    "loan_1_FeMale_Percent = round(loan_1_gender_distribution['F']*100/(loan_gender_distribution['F']),2)\n",
    "loan_1_FeMale_Percent"
   ]
  }
 ],
 "metadata": {
  "kernelspec": {
   "display_name": "Python 3",
   "language": "python",
   "name": "python3"
  },
  "language_info": {
   "codemirror_mode": {
    "name": "ipython",
    "version": 3
   },
   "file_extension": ".py",
   "mimetype": "text/x-python",
   "name": "python",
   "nbconvert_exporter": "python",
   "pygments_lexer": "ipython3",
   "version": "3.8.3"
  }
 },
 "nbformat": 4,
 "nbformat_minor": 4
}
