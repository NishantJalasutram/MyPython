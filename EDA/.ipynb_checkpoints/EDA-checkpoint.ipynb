{
 "cells": [
  {
   "cell_type": "markdown",
   "metadata": {},
   "source": [
    "## 1. Importing Libraries and reading the data"
   ]
  },
  {
   "cell_type": "code",
   "execution_count": 4,
   "metadata": {},
   "outputs": [],
   "source": [
    "import numpy as np\n",
    "import pandas as pd\n",
    "import matplotlib.pyplot as plt\n",
    "import seaborn as sns"
   ]
  },
  {
   "cell_type": "code",
   "execution_count": 5,
   "metadata": {},
   "outputs": [],
   "source": [
    "prev_appl_data = pd.read_csv(\"previous_application.csv\")\n",
    "curr_appl_data = pd.read_csv(\"application_data.csv\")"
   ]
  },
  {
   "cell_type": "markdown",
   "metadata": {},
   "source": [
    "## 2. Performing Descriptive Analysis on the Raw Data"
   ]
  },
  {
   "cell_type": "code",
   "execution_count": 6,
   "metadata": {},
   "outputs": [
    {
     "data": {
      "text/plain": [
       "(1670214, 37)"
      ]
     },
     "execution_count": 6,
     "metadata": {},
     "output_type": "execute_result"
    }
   ],
   "source": [
    "prev_appl_data.shape"
   ]
  },
  {
   "cell_type": "code",
   "execution_count": 7,
   "metadata": {},
   "outputs": [
    {
     "data": {
      "text/plain": [
       "(307511, 122)"
      ]
     },
     "execution_count": 7,
     "metadata": {},
     "output_type": "execute_result"
    }
   ],
   "source": [
    "curr_appl_data.shape"
   ]
  },
  {
   "cell_type": "code",
   "execution_count": 8,
   "metadata": {},
   "outputs": [
    {
     "name": "stdout",
     "output_type": "stream",
     "text": [
      "<class 'pandas.core.frame.DataFrame'>\n",
      "RangeIndex: 1670214 entries, 0 to 1670213\n",
      "Data columns (total 37 columns):\n",
      " #   Column                       Non-Null Count    Dtype  \n",
      "---  ------                       --------------    -----  \n",
      " 0   SK_ID_PREV                   1670214 non-null  int64  \n",
      " 1   SK_ID_CURR                   1670214 non-null  int64  \n",
      " 2   NAME_CONTRACT_TYPE           1670214 non-null  object \n",
      " 3   AMT_ANNUITY                  1297979 non-null  float64\n",
      " 4   AMT_APPLICATION              1670214 non-null  float64\n",
      " 5   AMT_CREDIT                   1670213 non-null  float64\n",
      " 6   AMT_DOWN_PAYMENT             774370 non-null   float64\n",
      " 7   AMT_GOODS_PRICE              1284699 non-null  float64\n",
      " 8   WEEKDAY_APPR_PROCESS_START   1670214 non-null  object \n",
      " 9   HOUR_APPR_PROCESS_START      1670214 non-null  int64  \n",
      " 10  FLAG_LAST_APPL_PER_CONTRACT  1670214 non-null  object \n",
      " 11  NFLAG_LAST_APPL_IN_DAY       1670214 non-null  int64  \n",
      " 12  RATE_DOWN_PAYMENT            774370 non-null   float64\n",
      " 13  RATE_INTEREST_PRIMARY        5951 non-null     float64\n",
      " 14  RATE_INTEREST_PRIVILEGED     5951 non-null     float64\n",
      " 15  NAME_CASH_LOAN_PURPOSE       1670214 non-null  object \n",
      " 16  NAME_CONTRACT_STATUS         1670214 non-null  object \n",
      " 17  DAYS_DECISION                1670214 non-null  int64  \n",
      " 18  NAME_PAYMENT_TYPE            1670214 non-null  object \n",
      " 19  CODE_REJECT_REASON           1670214 non-null  object \n",
      " 20  NAME_TYPE_SUITE              849809 non-null   object \n",
      " 21  NAME_CLIENT_TYPE             1670214 non-null  object \n",
      " 22  NAME_GOODS_CATEGORY          1670214 non-null  object \n",
      " 23  NAME_PORTFOLIO               1670214 non-null  object \n",
      " 24  NAME_PRODUCT_TYPE            1670214 non-null  object \n",
      " 25  CHANNEL_TYPE                 1670214 non-null  object \n",
      " 26  SELLERPLACE_AREA             1670214 non-null  int64  \n",
      " 27  NAME_SELLER_INDUSTRY         1670214 non-null  object \n",
      " 28  CNT_PAYMENT                  1297984 non-null  float64\n",
      " 29  NAME_YIELD_GROUP             1670214 non-null  object \n",
      " 30  PRODUCT_COMBINATION          1669868 non-null  object \n",
      " 31  DAYS_FIRST_DRAWING           997149 non-null   float64\n",
      " 32  DAYS_FIRST_DUE               997149 non-null   float64\n",
      " 33  DAYS_LAST_DUE_1ST_VERSION    997149 non-null   float64\n",
      " 34  DAYS_LAST_DUE                997149 non-null   float64\n",
      " 35  DAYS_TERMINATION             997149 non-null   float64\n",
      " 36  NFLAG_INSURED_ON_APPROVAL    997149 non-null   float64\n",
      "dtypes: float64(15), int64(6), object(16)\n",
      "memory usage: 471.5+ MB\n"
     ]
    }
   ],
   "source": [
    "prev_appl_data.info()"
   ]
  },
  {
   "cell_type": "code",
   "execution_count": 9,
   "metadata": {},
   "outputs": [
    {
     "name": "stdout",
     "output_type": "stream",
     "text": [
      "<class 'pandas.core.frame.DataFrame'>\n",
      "RangeIndex: 307511 entries, 0 to 307510\n",
      "Data columns (total 122 columns):\n",
      " #   Column                        Non-Null Count   Dtype  \n",
      "---  ------                        --------------   -----  \n",
      " 0   SK_ID_CURR                    307511 non-null  int64  \n",
      " 1   TARGET                        307511 non-null  int64  \n",
      " 2   NAME_CONTRACT_TYPE            307511 non-null  object \n",
      " 3   CODE_GENDER                   307511 non-null  object \n",
      " 4   FLAG_OWN_CAR                  307511 non-null  object \n",
      " 5   FLAG_OWN_REALTY               307511 non-null  object \n",
      " 6   CNT_CHILDREN                  307511 non-null  int64  \n",
      " 7   AMT_INCOME_TOTAL              307511 non-null  float64\n",
      " 8   AMT_CREDIT                    307511 non-null  float64\n",
      " 9   AMT_ANNUITY                   307499 non-null  float64\n",
      " 10  AMT_GOODS_PRICE               307233 non-null  float64\n",
      " 11  NAME_TYPE_SUITE               306219 non-null  object \n",
      " 12  NAME_INCOME_TYPE              307511 non-null  object \n",
      " 13  NAME_EDUCATION_TYPE           307511 non-null  object \n",
      " 14  NAME_FAMILY_STATUS            307511 non-null  object \n",
      " 15  NAME_HOUSING_TYPE             307511 non-null  object \n",
      " 16  REGION_POPULATION_RELATIVE    307511 non-null  float64\n",
      " 17  DAYS_BIRTH                    307511 non-null  int64  \n",
      " 18  DAYS_EMPLOYED                 307511 non-null  int64  \n",
      " 19  DAYS_REGISTRATION             307511 non-null  float64\n",
      " 20  DAYS_ID_PUBLISH               307511 non-null  int64  \n",
      " 21  OWN_CAR_AGE                   104582 non-null  float64\n",
      " 22  FLAG_MOBIL                    307511 non-null  int64  \n",
      " 23  FLAG_EMP_PHONE                307511 non-null  int64  \n",
      " 24  FLAG_WORK_PHONE               307511 non-null  int64  \n",
      " 25  FLAG_CONT_MOBILE              307511 non-null  int64  \n",
      " 26  FLAG_PHONE                    307511 non-null  int64  \n",
      " 27  FLAG_EMAIL                    307511 non-null  int64  \n",
      " 28  OCCUPATION_TYPE               211120 non-null  object \n",
      " 29  CNT_FAM_MEMBERS               307509 non-null  float64\n",
      " 30  REGION_RATING_CLIENT          307511 non-null  int64  \n",
      " 31  REGION_RATING_CLIENT_W_CITY   307511 non-null  int64  \n",
      " 32  WEEKDAY_APPR_PROCESS_START    307511 non-null  object \n",
      " 33  HOUR_APPR_PROCESS_START       307511 non-null  int64  \n",
      " 34  REG_REGION_NOT_LIVE_REGION    307511 non-null  int64  \n",
      " 35  REG_REGION_NOT_WORK_REGION    307511 non-null  int64  \n",
      " 36  LIVE_REGION_NOT_WORK_REGION   307511 non-null  int64  \n",
      " 37  REG_CITY_NOT_LIVE_CITY        307511 non-null  int64  \n",
      " 38  REG_CITY_NOT_WORK_CITY        307511 non-null  int64  \n",
      " 39  LIVE_CITY_NOT_WORK_CITY       307511 non-null  int64  \n",
      " 40  ORGANIZATION_TYPE             307511 non-null  object \n",
      " 41  EXT_SOURCE_1                  134133 non-null  float64\n",
      " 42  EXT_SOURCE_2                  306851 non-null  float64\n",
      " 43  EXT_SOURCE_3                  246546 non-null  float64\n",
      " 44  APARTMENTS_AVG                151450 non-null  float64\n",
      " 45  BASEMENTAREA_AVG              127568 non-null  float64\n",
      " 46  YEARS_BEGINEXPLUATATION_AVG   157504 non-null  float64\n",
      " 47  YEARS_BUILD_AVG               103023 non-null  float64\n",
      " 48  COMMONAREA_AVG                92646 non-null   float64\n",
      " 49  ELEVATORS_AVG                 143620 non-null  float64\n",
      " 50  ENTRANCES_AVG                 152683 non-null  float64\n",
      " 51  FLOORSMAX_AVG                 154491 non-null  float64\n",
      " 52  FLOORSMIN_AVG                 98869 non-null   float64\n",
      " 53  LANDAREA_AVG                  124921 non-null  float64\n",
      " 54  LIVINGAPARTMENTS_AVG          97312 non-null   float64\n",
      " 55  LIVINGAREA_AVG                153161 non-null  float64\n",
      " 56  NONLIVINGAPARTMENTS_AVG       93997 non-null   float64\n",
      " 57  NONLIVINGAREA_AVG             137829 non-null  float64\n",
      " 58  APARTMENTS_MODE               151450 non-null  float64\n",
      " 59  BASEMENTAREA_MODE             127568 non-null  float64\n",
      " 60  YEARS_BEGINEXPLUATATION_MODE  157504 non-null  float64\n",
      " 61  YEARS_BUILD_MODE              103023 non-null  float64\n",
      " 62  COMMONAREA_MODE               92646 non-null   float64\n",
      " 63  ELEVATORS_MODE                143620 non-null  float64\n",
      " 64  ENTRANCES_MODE                152683 non-null  float64\n",
      " 65  FLOORSMAX_MODE                154491 non-null  float64\n",
      " 66  FLOORSMIN_MODE                98869 non-null   float64\n",
      " 67  LANDAREA_MODE                 124921 non-null  float64\n",
      " 68  LIVINGAPARTMENTS_MODE         97312 non-null   float64\n",
      " 69  LIVINGAREA_MODE               153161 non-null  float64\n",
      " 70  NONLIVINGAPARTMENTS_MODE      93997 non-null   float64\n",
      " 71  NONLIVINGAREA_MODE            137829 non-null  float64\n",
      " 72  APARTMENTS_MEDI               151450 non-null  float64\n",
      " 73  BASEMENTAREA_MEDI             127568 non-null  float64\n",
      " 74  YEARS_BEGINEXPLUATATION_MEDI  157504 non-null  float64\n",
      " 75  YEARS_BUILD_MEDI              103023 non-null  float64\n",
      " 76  COMMONAREA_MEDI               92646 non-null   float64\n",
      " 77  ELEVATORS_MEDI                143620 non-null  float64\n",
      " 78  ENTRANCES_MEDI                152683 non-null  float64\n",
      " 79  FLOORSMAX_MEDI                154491 non-null  float64\n",
      " 80  FLOORSMIN_MEDI                98869 non-null   float64\n",
      " 81  LANDAREA_MEDI                 124921 non-null  float64\n",
      " 82  LIVINGAPARTMENTS_MEDI         97312 non-null   float64\n",
      " 83  LIVINGAREA_MEDI               153161 non-null  float64\n",
      " 84  NONLIVINGAPARTMENTS_MEDI      93997 non-null   float64\n",
      " 85  NONLIVINGAREA_MEDI            137829 non-null  float64\n",
      " 86  FONDKAPREMONT_MODE            97216 non-null   object \n",
      " 87  HOUSETYPE_MODE                153214 non-null  object \n",
      " 88  TOTALAREA_MODE                159080 non-null  float64\n",
      " 89  WALLSMATERIAL_MODE            151170 non-null  object \n",
      " 90  EMERGENCYSTATE_MODE           161756 non-null  object \n",
      " 91  OBS_30_CNT_SOCIAL_CIRCLE      306490 non-null  float64\n",
      " 92  DEF_30_CNT_SOCIAL_CIRCLE      306490 non-null  float64\n",
      " 93  OBS_60_CNT_SOCIAL_CIRCLE      306490 non-null  float64\n",
      " 94  DEF_60_CNT_SOCIAL_CIRCLE      306490 non-null  float64\n",
      " 95  DAYS_LAST_PHONE_CHANGE        307510 non-null  float64\n",
      " 96  FLAG_DOCUMENT_2               307511 non-null  int64  \n",
      " 97  FLAG_DOCUMENT_3               307511 non-null  int64  \n",
      " 98  FLAG_DOCUMENT_4               307511 non-null  int64  \n",
      " 99  FLAG_DOCUMENT_5               307511 non-null  int64  \n",
      " 100 FLAG_DOCUMENT_6               307511 non-null  int64  \n",
      " 101 FLAG_DOCUMENT_7               307511 non-null  int64  \n",
      " 102 FLAG_DOCUMENT_8               307511 non-null  int64  \n",
      " 103 FLAG_DOCUMENT_9               307511 non-null  int64  \n",
      " 104 FLAG_DOCUMENT_10              307511 non-null  int64  \n",
      " 105 FLAG_DOCUMENT_11              307511 non-null  int64  \n",
      " 106 FLAG_DOCUMENT_12              307511 non-null  int64  \n",
      " 107 FLAG_DOCUMENT_13              307511 non-null  int64  \n",
      " 108 FLAG_DOCUMENT_14              307511 non-null  int64  \n",
      " 109 FLAG_DOCUMENT_15              307511 non-null  int64  \n",
      " 110 FLAG_DOCUMENT_16              307511 non-null  int64  \n",
      " 111 FLAG_DOCUMENT_17              307511 non-null  int64  \n",
      " 112 FLAG_DOCUMENT_18              307511 non-null  int64  \n",
      " 113 FLAG_DOCUMENT_19              307511 non-null  int64  \n",
      " 114 FLAG_DOCUMENT_20              307511 non-null  int64  \n",
      " 115 FLAG_DOCUMENT_21              307511 non-null  int64  \n",
      " 116 AMT_REQ_CREDIT_BUREAU_HOUR    265992 non-null  float64\n",
      " 117 AMT_REQ_CREDIT_BUREAU_DAY     265992 non-null  float64\n",
      " 118 AMT_REQ_CREDIT_BUREAU_WEEK    265992 non-null  float64\n",
      " 119 AMT_REQ_CREDIT_BUREAU_MON     265992 non-null  float64\n",
      " 120 AMT_REQ_CREDIT_BUREAU_QRT     265992 non-null  float64\n",
      " 121 AMT_REQ_CREDIT_BUREAU_YEAR    265992 non-null  float64\n",
      "dtypes: float64(65), int64(41), object(16)\n",
      "memory usage: 286.2+ MB\n"
     ]
    }
   ],
   "source": [
    "curr_appl_data.info(verbose=True, null_counts=True)"
   ]
  },
  {
   "cell_type": "code",
   "execution_count": 10,
   "metadata": {},
   "outputs": [
    {
     "data": {
      "text/plain": [
       "SK_ID_CURR                     0.0\n",
       "TARGET                         0.0\n",
       "NAME_CONTRACT_TYPE             0.0\n",
       "CODE_GENDER                    0.0\n",
       "FLAG_OWN_CAR                   0.0\n",
       "                              ... \n",
       "AMT_REQ_CREDIT_BUREAU_DAY     13.5\n",
       "AMT_REQ_CREDIT_BUREAU_WEEK    13.5\n",
       "AMT_REQ_CREDIT_BUREAU_MON     13.5\n",
       "AMT_REQ_CREDIT_BUREAU_QRT     13.5\n",
       "AMT_REQ_CREDIT_BUREAU_YEAR    13.5\n",
       "Length: 122, dtype: float64"
      ]
     },
     "execution_count": 10,
     "metadata": {},
     "output_type": "execute_result"
    }
   ],
   "source": [
    "####Finding null percentages for columns\n",
    "S = curr_appl_data.isnull().sum()\n",
    "S1 = round(S*100/curr_appl_data.shape[0],2)\n",
    "pd.options.display.max_rows = 15\n",
    "pd.DataFrame(S1)\n",
    "S1"
   ]
  },
  {
   "cell_type": "markdown",
   "metadata": {},
   "source": [
    "## 3. Filling NA values and dropping columns"
   ]
  },
  {
   "cell_type": "code",
   "execution_count": 11,
   "metadata": {},
   "outputs": [],
   "source": [
    "###### Dropping columns where there are more than 40% null values\n",
    "\n",
    "dropColList = list(S1[S1 > 40].index)"
   ]
  },
  {
   "cell_type": "code",
   "execution_count": 12,
   "metadata": {},
   "outputs": [],
   "source": [
    "# Dropping columns from current application data which we felt are not relevant.\n",
    "\n",
    "dropColList.extend(['AMT_REQ_CREDIT_BUREAU_HOUR','AMT_REQ_CREDIT_BUREAU_DAY',\n",
    "                   'AMT_REQ_CREDIT_BUREAU_WEEK','AMT_REQ_CREDIT_BUREAU_MON','AMT_REQ_CREDIT_BUREAU_QRT',\n",
    "                   'AMT_REQ_CREDIT_BUREAU_YEAR'])\n"
   ]
  },
  {
   "cell_type": "code",
   "execution_count": 13,
   "metadata": {},
   "outputs": [],
   "source": [
    "##### Checking Value counts for columns which have very few discrete values to come to a conclusion for relevance\n",
    "\n",
    "######Fetching records where there is payment difficulty i.e target variable = 1\n",
    "\n",
    "curr_appl_data_payDifficulties = curr_appl_data[curr_appl_data['TARGET'] == 1]"
   ]
  },
  {
   "cell_type": "code",
   "execution_count": 14,
   "metadata": {},
   "outputs": [
    {
     "data": {
      "text/html": [
       "<div>\n",
       "<style scoped>\n",
       "    .dataframe tbody tr th:only-of-type {\n",
       "        vertical-align: middle;\n",
       "    }\n",
       "\n",
       "    .dataframe tbody tr th {\n",
       "        vertical-align: top;\n",
       "    }\n",
       "\n",
       "    .dataframe thead th {\n",
       "        text-align: right;\n",
       "    }\n",
       "</style>\n",
       "<table border=\"1\" class=\"dataframe\">\n",
       "  <thead>\n",
       "    <tr style=\"text-align: right;\">\n",
       "      <th></th>\n",
       "      <th>REG_REGION_NOT_LIVE_REGION</th>\n",
       "      <th>REG_REGION_NOT_WORK_REGION</th>\n",
       "      <th>LIVE_REGION_NOT_WORK_REGION</th>\n",
       "      <th>REG_CITY_NOT_LIVE_CITY</th>\n",
       "      <th>REG_CITY_NOT_WORK_CITY</th>\n",
       "      <th>LIVE_CITY_NOT_WORK_CITY</th>\n",
       "    </tr>\n",
       "  </thead>\n",
       "  <tbody>\n",
       "    <tr>\n",
       "      <th>0</th>\n",
       "      <td>0.982558</td>\n",
       "      <td>0.944089</td>\n",
       "      <td>0.957462</td>\n",
       "      <td>0.881611</td>\n",
       "      <td>0.69708</td>\n",
       "      <td>0.778328</td>\n",
       "    </tr>\n",
       "    <tr>\n",
       "      <th>1</th>\n",
       "      <td>0.017442</td>\n",
       "      <td>0.055911</td>\n",
       "      <td>0.042538</td>\n",
       "      <td>0.118389</td>\n",
       "      <td>0.30292</td>\n",
       "      <td>0.221672</td>\n",
       "    </tr>\n",
       "  </tbody>\n",
       "</table>\n",
       "</div>"
      ],
      "text/plain": [
       "   REG_REGION_NOT_LIVE_REGION  REG_REGION_NOT_WORK_REGION  \\\n",
       "0                    0.982558                    0.944089   \n",
       "1                    0.017442                    0.055911   \n",
       "\n",
       "   LIVE_REGION_NOT_WORK_REGION  REG_CITY_NOT_LIVE_CITY  \\\n",
       "0                     0.957462                0.881611   \n",
       "1                     0.042538                0.118389   \n",
       "\n",
       "   REG_CITY_NOT_WORK_CITY  LIVE_CITY_NOT_WORK_CITY  \n",
       "0                 0.69708                 0.778328  \n",
       "1                 0.30292                 0.221672  "
      ]
     },
     "execution_count": 14,
     "metadata": {},
     "output_type": "execute_result"
    }
   ],
   "source": [
    "##### Checking the Contact or WorkAddress related columns value counts against target Variable . \n",
    "##### Checking for records only where there is payment difficulty i.e target = 1\n",
    "\n",
    "columns_list = ['REG_REGION_NOT_LIVE_REGION', 'REG_REGION_NOT_WORK_REGION',\n",
    "       'LIVE_REGION_NOT_WORK_REGION', 'REG_CITY_NOT_LIVE_CITY',\n",
    "       'REG_CITY_NOT_WORK_CITY', 'LIVE_CITY_NOT_WORK_CITY']\n",
    "\n",
    "finalDFWorkAddress = pd.DataFrame()\n",
    "for i in columns_list:\n",
    "    Scheck = curr_appl_data_payDifficulties[i].value_counts(normalize=True)\n",
    "    finalDFWorkAddress.loc[:, i] = Scheck\n",
    "    \n",
    "finalDFWorkAddress\n",
    "\n",
    "##### Based on the o/p we can drop the columns 'REG_REGION_NOT_LIVE_REGION', 'REG_REGION_NOT_WORK_REGION' ,LIVE_REGION_NOT_WORK_REGION\n",
    "### 'REG_CITY_NOT_LIVE_CITY' as most of the records have same value "
   ]
  },
  {
   "cell_type": "code",
   "execution_count": 15,
   "metadata": {},
   "outputs": [
    {
     "data": {
      "text/html": [
       "<div>\n",
       "<style scoped>\n",
       "    .dataframe tbody tr th:only-of-type {\n",
       "        vertical-align: middle;\n",
       "    }\n",
       "\n",
       "    .dataframe tbody tr th {\n",
       "        vertical-align: top;\n",
       "    }\n",
       "\n",
       "    .dataframe thead th {\n",
       "        text-align: right;\n",
       "    }\n",
       "</style>\n",
       "<table border=\"1\" class=\"dataframe\">\n",
       "  <thead>\n",
       "    <tr style=\"text-align: right;\">\n",
       "      <th></th>\n",
       "      <th>FLAG_DOCUMENT_2</th>\n",
       "      <th>FLAG_DOCUMENT_3</th>\n",
       "      <th>FLAG_DOCUMENT_4</th>\n",
       "      <th>FLAG_DOCUMENT_5</th>\n",
       "      <th>FLAG_DOCUMENT_6</th>\n",
       "      <th>FLAG_DOCUMENT_7</th>\n",
       "      <th>FLAG_DOCUMENT_8</th>\n",
       "      <th>FLAG_DOCUMENT_9</th>\n",
       "      <th>FLAG_DOCUMENT_10</th>\n",
       "      <th>FLAG_DOCUMENT_11</th>\n",
       "      <th>FLAG_DOCUMENT_12</th>\n",
       "      <th>FLAG_DOCUMENT_13</th>\n",
       "      <th>FLAG_DOCUMENT_14</th>\n",
       "      <th>FLAG_DOCUMENT_15</th>\n",
       "      <th>FLAG_DOCUMENT_16</th>\n",
       "      <th>FLAG_DOCUMENT_17</th>\n",
       "      <th>FLAG_DOCUMENT_18</th>\n",
       "      <th>FLAG_DOCUMENT_19</th>\n",
       "      <th>FLAG_DOCUMENT_20</th>\n",
       "      <th>FLAG_DOCUMENT_21</th>\n",
       "    </tr>\n",
       "  </thead>\n",
       "  <tbody>\n",
       "    <tr>\n",
       "      <th>0</th>\n",
       "      <td>0.999839</td>\n",
       "      <td>0.222075</td>\n",
       "      <td>1.0</td>\n",
       "      <td>0.985015</td>\n",
       "      <td>0.939295</td>\n",
       "      <td>0.999879</td>\n",
       "      <td>0.926042</td>\n",
       "      <td>0.997019</td>\n",
       "      <td>1.0</td>\n",
       "      <td>0.996979</td>\n",
       "      <td>1.0</td>\n",
       "      <td>0.998792</td>\n",
       "      <td>0.998792</td>\n",
       "      <td>0.999557</td>\n",
       "      <td>0.993958</td>\n",
       "      <td>0.999919</td>\n",
       "      <td>0.99428</td>\n",
       "      <td>0.999517</td>\n",
       "      <td>0.999476</td>\n",
       "      <td>0.999436</td>\n",
       "    </tr>\n",
       "    <tr>\n",
       "      <th>1</th>\n",
       "      <td>0.000161</td>\n",
       "      <td>0.777925</td>\n",
       "      <td>NaN</td>\n",
       "      <td>0.014985</td>\n",
       "      <td>0.060705</td>\n",
       "      <td>0.000121</td>\n",
       "      <td>0.073958</td>\n",
       "      <td>0.002981</td>\n",
       "      <td>NaN</td>\n",
       "      <td>0.003021</td>\n",
       "      <td>NaN</td>\n",
       "      <td>0.001208</td>\n",
       "      <td>0.001208</td>\n",
       "      <td>0.000443</td>\n",
       "      <td>0.006042</td>\n",
       "      <td>0.000081</td>\n",
       "      <td>0.00572</td>\n",
       "      <td>0.000483</td>\n",
       "      <td>0.000524</td>\n",
       "      <td>0.000564</td>\n",
       "    </tr>\n",
       "  </tbody>\n",
       "</table>\n",
       "</div>"
      ],
      "text/plain": [
       "   FLAG_DOCUMENT_2  FLAG_DOCUMENT_3  FLAG_DOCUMENT_4  FLAG_DOCUMENT_5  \\\n",
       "0         0.999839         0.222075              1.0         0.985015   \n",
       "1         0.000161         0.777925              NaN         0.014985   \n",
       "\n",
       "   FLAG_DOCUMENT_6  FLAG_DOCUMENT_7  FLAG_DOCUMENT_8  FLAG_DOCUMENT_9  \\\n",
       "0         0.939295         0.999879         0.926042         0.997019   \n",
       "1         0.060705         0.000121         0.073958         0.002981   \n",
       "\n",
       "   FLAG_DOCUMENT_10  FLAG_DOCUMENT_11  FLAG_DOCUMENT_12  FLAG_DOCUMENT_13  \\\n",
       "0               1.0          0.996979               1.0          0.998792   \n",
       "1               NaN          0.003021               NaN          0.001208   \n",
       "\n",
       "   FLAG_DOCUMENT_14  FLAG_DOCUMENT_15  FLAG_DOCUMENT_16  FLAG_DOCUMENT_17  \\\n",
       "0          0.998792          0.999557          0.993958          0.999919   \n",
       "1          0.001208          0.000443          0.006042          0.000081   \n",
       "\n",
       "   FLAG_DOCUMENT_18  FLAG_DOCUMENT_19  FLAG_DOCUMENT_20  FLAG_DOCUMENT_21  \n",
       "0           0.99428          0.999517          0.999476          0.999436  \n",
       "1           0.00572          0.000483          0.000524          0.000564  "
      ]
     },
     "execution_count": 15,
     "metadata": {},
     "output_type": "execute_result"
    }
   ],
   "source": [
    "##### Checking the Id proof/Documents submitted value counts against target Variable . \n",
    "##### Checking for records only where there is payment difficulty i.e target = 1\n",
    "\n",
    "DocumentsColumnList  = []\n",
    "for i in curr_appl_data_payDifficulties.columns:\n",
    "    if i.startswith('FLAG_DOCUMENT'):\n",
    "        DocumentsColumnList.append(i)\n",
    "\n",
    "\n",
    "finalDFDocumentFlag = pd.DataFrame()\n",
    "\n",
    "for i in DocumentsColumnList:\n",
    "    Scheck = curr_appl_data_payDifficulties[i].value_counts(normalize=True)\n",
    "    finalDFDocumentFlag.loc[:, i] = Scheck\n",
    "    \n",
    "finalDFDocumentFlag\n",
    "\n",
    "##### All The Flag Document columns can be dropped apart from FlagDocument3 as all the columns have value as 0 for more than 99% of records"
   ]
  },
  {
   "cell_type": "code",
   "execution_count": 16,
   "metadata": {},
   "outputs": [],
   "source": [
    "DocumentsColumnList.remove('FLAG_DOCUMENT_3')"
   ]
  },
  {
   "cell_type": "code",
   "execution_count": 17,
   "metadata": {},
   "outputs": [
    {
     "data": {
      "text/html": [
       "<div>\n",
       "<style scoped>\n",
       "    .dataframe tbody tr th:only-of-type {\n",
       "        vertical-align: middle;\n",
       "    }\n",
       "\n",
       "    .dataframe tbody tr th {\n",
       "        vertical-align: top;\n",
       "    }\n",
       "\n",
       "    .dataframe thead th {\n",
       "        text-align: right;\n",
       "    }\n",
       "</style>\n",
       "<table border=\"1\" class=\"dataframe\">\n",
       "  <thead>\n",
       "    <tr style=\"text-align: right;\">\n",
       "      <th></th>\n",
       "      <th>FLAG_EMP_PHONE</th>\n",
       "      <th>FLAG_WORK_PHONE</th>\n",
       "      <th>FLAG_CONT_MOBILE</th>\n",
       "      <th>FLAG_PHONE</th>\n",
       "      <th>FLAG_EMAIL</th>\n",
       "    </tr>\n",
       "  </thead>\n",
       "  <tbody>\n",
       "    <tr>\n",
       "      <th>1</th>\n",
       "      <td>0.879517</td>\n",
       "      <td>0.237825</td>\n",
       "      <td>0.998187</td>\n",
       "      <td>0.244955</td>\n",
       "      <td>0.055347</td>\n",
       "    </tr>\n",
       "    <tr>\n",
       "      <th>0</th>\n",
       "      <td>0.120483</td>\n",
       "      <td>0.762175</td>\n",
       "      <td>0.001813</td>\n",
       "      <td>0.755045</td>\n",
       "      <td>0.944653</td>\n",
       "    </tr>\n",
       "  </tbody>\n",
       "</table>\n",
       "</div>"
      ],
      "text/plain": [
       "   FLAG_EMP_PHONE  FLAG_WORK_PHONE  FLAG_CONT_MOBILE  FLAG_PHONE  FLAG_EMAIL\n",
       "1        0.879517         0.237825          0.998187    0.244955    0.055347\n",
       "0        0.120483         0.762175          0.001813    0.755045    0.944653"
      ]
     },
     "execution_count": 17,
     "metadata": {},
     "output_type": "execute_result"
    }
   ],
   "source": [
    "##### Checking the Contact Details  value counts against target Variable . \n",
    "##### Checking for records only where there is payment difficulty i.e target = 1\n",
    "\n",
    "ContactFlagColumnsList = ['FLAG_EMP_PHONE','FLAG_WORK_PHONE','FLAG_CONT_MOBILE','FLAG_PHONE','FLAG_EMAIL']\n",
    "\n",
    "finalDFContactFlag = pd.DataFrame()\n",
    "\n",
    "for i in ContactFlagColumnsList:\n",
    "    Scheck = curr_appl_data_payDifficulties[i].value_counts(normalize=True)\n",
    "    finalDFContactFlag.loc[:, i] = Scheck\n",
    "    \n",
    "finalDFContactFlag\n",
    "##### Flag_Emp_Phone,Flag_Cont_Mobile Can be dropped as the majority have the values as 1"
   ]
  },
  {
   "cell_type": "code",
   "execution_count": 15,
   "metadata": {},
   "outputs": [
    {
     "data": {
      "text/plain": [
       "1    1.0\n",
       "Name: FLAG_MOBIL, dtype: float64"
      ]
     },
     "execution_count": 15,
     "metadata": {},
     "output_type": "execute_result"
    }
   ],
   "source": [
    "curr_appl_data_payDifficulties['FLAG_MOBIL'].value_counts(normalize=True)\n",
    "\n",
    "### Can Drop the column FLAG_MOBIL as well as all the records have the value as 1"
   ]
  },
  {
   "cell_type": "code",
   "execution_count": 16,
   "metadata": {},
   "outputs": [],
   "source": [
    "dropColList.extend(['REG_REGION_NOT_LIVE_REGION', 'REG_REGION_NOT_WORK_REGION',\n",
    "       'LIVE_REGION_NOT_WORK_REGION', 'REG_CITY_NOT_LIVE_CITY'])\n",
    "dropColList.extend(DocumentsColumnList)\n"
   ]
  },
  {
   "cell_type": "code",
   "execution_count": 18,
   "metadata": {},
   "outputs": [],
   "source": [
    "dropColList.extend(['FLAG_EMP_PHONE','FLAG_MOBIL','FLAG_CONT_MOBILE'])"
   ]
  },
  {
   "cell_type": "code",
   "execution_count": 19,
   "metadata": {},
   "outputs": [
    {
     "data": {
      "text/plain": [
       "['OWN_CAR_AGE',\n",
       " 'EXT_SOURCE_1',\n",
       " 'APARTMENTS_AVG',\n",
       " 'BASEMENTAREA_AVG',\n",
       " 'YEARS_BEGINEXPLUATATION_AVG',\n",
       " 'YEARS_BUILD_AVG',\n",
       " 'COMMONAREA_AVG',\n",
       " 'ELEVATORS_AVG',\n",
       " 'ENTRANCES_AVG',\n",
       " 'FLOORSMAX_AVG',\n",
       " 'FLOORSMIN_AVG',\n",
       " 'LANDAREA_AVG',\n",
       " 'LIVINGAPARTMENTS_AVG',\n",
       " 'LIVINGAREA_AVG',\n",
       " 'NONLIVINGAPARTMENTS_AVG',\n",
       " 'NONLIVINGAREA_AVG',\n",
       " 'APARTMENTS_MODE',\n",
       " 'BASEMENTAREA_MODE',\n",
       " 'YEARS_BEGINEXPLUATATION_MODE',\n",
       " 'YEARS_BUILD_MODE',\n",
       " 'COMMONAREA_MODE',\n",
       " 'ELEVATORS_MODE',\n",
       " 'ENTRANCES_MODE',\n",
       " 'FLOORSMAX_MODE',\n",
       " 'FLOORSMIN_MODE',\n",
       " 'LANDAREA_MODE',\n",
       " 'LIVINGAPARTMENTS_MODE',\n",
       " 'LIVINGAREA_MODE',\n",
       " 'NONLIVINGAPARTMENTS_MODE',\n",
       " 'NONLIVINGAREA_MODE',\n",
       " 'APARTMENTS_MEDI',\n",
       " 'BASEMENTAREA_MEDI',\n",
       " 'YEARS_BEGINEXPLUATATION_MEDI',\n",
       " 'YEARS_BUILD_MEDI',\n",
       " 'COMMONAREA_MEDI',\n",
       " 'ELEVATORS_MEDI',\n",
       " 'ENTRANCES_MEDI',\n",
       " 'FLOORSMAX_MEDI',\n",
       " 'FLOORSMIN_MEDI',\n",
       " 'LANDAREA_MEDI',\n",
       " 'LIVINGAPARTMENTS_MEDI',\n",
       " 'LIVINGAREA_MEDI',\n",
       " 'NONLIVINGAPARTMENTS_MEDI',\n",
       " 'NONLIVINGAREA_MEDI',\n",
       " 'FONDKAPREMONT_MODE',\n",
       " 'HOUSETYPE_MODE',\n",
       " 'TOTALAREA_MODE',\n",
       " 'WALLSMATERIAL_MODE',\n",
       " 'EMERGENCYSTATE_MODE',\n",
       " 'AMT_REQ_CREDIT_BUREAU_HOUR',\n",
       " 'AMT_REQ_CREDIT_BUREAU_DAY',\n",
       " 'AMT_REQ_CREDIT_BUREAU_WEEK',\n",
       " 'AMT_REQ_CREDIT_BUREAU_MON',\n",
       " 'AMT_REQ_CREDIT_BUREAU_QRT',\n",
       " 'AMT_REQ_CREDIT_BUREAU_YEAR',\n",
       " 'FLAG_EMP_PHONE',\n",
       " 'FLAG_MOBIL',\n",
       " 'FLAG_CONT_MOBILE']"
      ]
     },
     "execution_count": 19,
     "metadata": {},
     "output_type": "execute_result"
    }
   ],
   "source": [
    "dropColList"
   ]
  },
  {
   "cell_type": "code",
   "execution_count": 20,
   "metadata": {},
   "outputs": [],
   "source": [
    "loan_data = curr_appl_data.copy()"
   ]
  },
  {
   "cell_type": "code",
   "execution_count": 21,
   "metadata": {},
   "outputs": [],
   "source": [
    "loan_data.drop(columns=dropColList,axis=1,inplace=True)"
   ]
  },
  {
   "cell_type": "code",
   "execution_count": 258,
   "metadata": {},
   "outputs": [
    {
     "data": {
      "text/plain": [
       "SK_ID_CURR                      0.000000\n",
       "TARGET                          0.000000\n",
       "NAME_CONTRACT_TYPE              0.000000\n",
       "CODE_GENDER                     0.000000\n",
       "FLAG_OWN_CAR                    0.000000\n",
       "FLAG_OWN_REALTY                 0.000000\n",
       "CNT_CHILDREN                    0.000000\n",
       "AMT_INCOME_TOTAL                0.000000\n",
       "AMT_CREDIT                      0.000000\n",
       "AMT_ANNUITY                     0.000000\n",
       "AMT_GOODS_PRICE                 0.090403\n",
       "NAME_TYPE_SUITE                 0.420148\n",
       "NAME_INCOME_TYPE                0.000000\n",
       "NAME_EDUCATION_TYPE             0.000000\n",
       "NAME_FAMILY_STATUS              0.000000\n",
       "NAME_HOUSING_TYPE               0.000000\n",
       "REGION_POPULATION_RELATIVE      0.000000\n",
       "DAYS_BIRTH                      0.000000\n",
       "DAYS_EMPLOYED                   0.000000\n",
       "DAYS_REGISTRATION               0.000000\n",
       "DAYS_ID_PUBLISH                 0.000000\n",
       "FLAG_WORK_PHONE                 0.000000\n",
       "FLAG_PHONE                      0.000000\n",
       "FLAG_EMAIL                      0.000000\n",
       "OCCUPATION_TYPE                31.345545\n",
       "CNT_FAM_MEMBERS                 0.000000\n",
       "REGION_RATING_CLIENT            0.000000\n",
       "REGION_RATING_CLIENT_W_CITY     0.000000\n",
       "WEEKDAY_APPR_PROCESS_START      0.000000\n",
       "HOUR_APPR_PROCESS_START         0.000000\n",
       "REG_CITY_NOT_WORK_CITY          0.000000\n",
       "LIVE_CITY_NOT_WORK_CITY         0.000000\n",
       "ORGANIZATION_TYPE               0.000000\n",
       "EXT_SOURCE_2                    0.214626\n",
       "EXT_SOURCE_3                   19.825307\n",
       "OBS_30_CNT_SOCIAL_CIRCLE        0.332021\n",
       "DEF_30_CNT_SOCIAL_CIRCLE        0.332021\n",
       "OBS_60_CNT_SOCIAL_CIRCLE        0.332021\n",
       "DEF_60_CNT_SOCIAL_CIRCLE        0.332021\n",
       "DAYS_LAST_PHONE_CHANGE          0.000325\n",
       "FLAG_DOCUMENT_3                 0.000000\n",
       "Age                             0.000000\n",
       "Age_Group                       0.000325\n",
       "dtype: float64"
      ]
     },
     "execution_count": 258,
     "metadata": {},
     "output_type": "execute_result"
    }
   ],
   "source": [
    "pd.options.display.max_rows = None\n",
    "(loan_data.isnull().sum()/len(loan_data))*100\n"
   ]
  },
  {
   "cell_type": "code",
   "execution_count": 204,
   "metadata": {},
   "outputs": [
    {
     "data": {
      "text/plain": [
       "2.0"
      ]
     },
     "execution_count": 204,
     "metadata": {},
     "output_type": "execute_result"
    }
   ],
   "source": [
    "loan_data['CNT_FAM_MEMBERS'].median()"
   ]
  },
  {
   "cell_type": "code",
   "execution_count": 206,
   "metadata": {},
   "outputs": [],
   "source": [
    "###### Replacing null values in Count of Family Members Column with Median Value\n",
    "loan_data['CNT_FAM_MEMBERS'] = loan_data['CNT_FAM_MEMBERS'].fillna(loan_data['CNT_FAM_MEMBERS'].median())"
   ]
  },
  {
   "cell_type": "code",
   "execution_count": 209,
   "metadata": {},
   "outputs": [],
   "source": [
    "loan_data['CNT_FAM_MEMBERS'] = loan_data['CNT_FAM_MEMBERS'].astype(int)"
   ]
  },
  {
   "cell_type": "code",
   "execution_count": 245,
   "metadata": {},
   "outputs": [
    {
     "data": {
      "text/plain": [
       "12"
      ]
     },
     "execution_count": 245,
     "metadata": {},
     "output_type": "execute_result"
    }
   ],
   "source": [
    "loan_data['AMT_ANNUITY'].isnull().sum()"
   ]
  },
  {
   "cell_type": "code",
   "execution_count": 246,
   "metadata": {},
   "outputs": [],
   "source": [
    "#### As the number of Records having Annuity Amount as null is very minimal\n",
    "#### i.e 12 records of entire data set we can replace with median\n",
    "loan_data['AMT_ANNUITY'] = loan_data['AMT_ANNUITY'].fillna(loan_data['AMT_ANNUITY'].median())"
   ]
  },
  {
   "cell_type": "code",
   "execution_count": 247,
   "metadata": {},
   "outputs": [
    {
     "data": {
      "text/plain": [
       "0"
      ]
     },
     "execution_count": 247,
     "metadata": {},
     "output_type": "execute_result"
    }
   ],
   "source": [
    "loan_data['AMT_ANNUITY'].isnull().sum()"
   ]
  },
  {
   "cell_type": "code",
   "execution_count": 527,
   "metadata": {},
   "outputs": [
    {
     "data": {
      "text/plain": [
       "0"
      ]
     },
     "execution_count": 527,
     "metadata": {},
     "output_type": "execute_result"
    }
   ],
   "source": [
    "loan_data['AMT_GOODS_PRICE'].isnull().sum()"
   ]
  },
  {
   "cell_type": "code",
   "execution_count": 525,
   "metadata": {},
   "outputs": [
    {
     "data": {
      "text/plain": [
       "0.0009040327012692228"
      ]
     },
     "execution_count": 525,
     "metadata": {},
     "output_type": "execute_result"
    }
   ],
   "source": [
    "loan_data['AMT_GOODS_PRICE'].isnull().sum()/loan_data.shape[0]"
   ]
  },
  {
   "cell_type": "code",
   "execution_count": 526,
   "metadata": {},
   "outputs": [],
   "source": [
    "#### As the number of Records having Annuity Amount as null is very minimal percent\n",
    "#### we can replace with median\n",
    "loan_data['AMT_GOODS_PRICE'] = loan_data['AMT_GOODS_PRICE'].fillna(loan_data['AMT_GOODS_PRICE'].median())"
   ]
  },
  {
   "cell_type": "code",
   "execution_count": 528,
   "metadata": {},
   "outputs": [
    {
     "data": {
      "text/plain": [
       "Y    213312\n",
       "N     94199\n",
       "Name: FLAG_OWN_REALTY, dtype: int64"
      ]
     },
     "execution_count": 528,
     "metadata": {},
     "output_type": "execute_result"
    }
   ],
   "source": [
    "loan_data['FLAG_OWN_REALTY'].value_counts()"
   ]
  },
  {
   "cell_type": "code",
   "execution_count": 529,
   "metadata": {},
   "outputs": [
    {
     "data": {
      "text/plain": [
       "N    202924\n",
       "Y    104587\n",
       "Name: FLAG_OWN_CAR, dtype: int64"
      ]
     },
     "execution_count": 529,
     "metadata": {},
     "output_type": "execute_result"
    }
   ],
   "source": [
    "loan_data['FLAG_OWN_CAR'].value_counts()"
   ]
  },
  {
   "cell_type": "code",
   "execution_count": 49,
   "metadata": {},
   "outputs": [
    {
     "data": {
      "text/plain": [
       "F      202448\n",
       "M      105059\n",
       "XNA         4\n",
       "Name: CODE_GENDER, dtype: int64"
      ]
     },
     "execution_count": 49,
     "metadata": {},
     "output_type": "execute_result"
    }
   ],
   "source": [
    "#### Checking for Columns Which have values as XNA . Here Gender Can be either Male or Female . \n",
    "#### 4 records have value as XNA . As the mode is Female we can replace those 4 records value as F there wont be much impact\n",
    "loan_data.CODE_GENDER.value_counts()"
   ]
  },
  {
   "cell_type": "code",
   "execution_count": 53,
   "metadata": {},
   "outputs": [],
   "source": [
    "loan_data['CODE_GENDER'] = loan_data['CODE_GENDER'].replace('XNA','F')"
   ]
  },
  {
   "cell_type": "code",
   "execution_count": 54,
   "metadata": {},
   "outputs": [
    {
     "data": {
      "text/plain": [
       "F    202452\n",
       "M    105059\n",
       "Name: CODE_GENDER, dtype: int64"
      ]
     },
     "execution_count": 54,
     "metadata": {},
     "output_type": "execute_result"
    }
   ],
   "source": [
    "#### We can observe now the XNA values are replaced\n",
    "loan_data.CODE_GENDER.value_counts()"
   ]
  },
  {
   "cell_type": "code",
   "execution_count": 503,
   "metadata": {},
   "outputs": [
    {
     "data": {
      "text/plain": [
       "Married                 196432\n",
       "Single / not married     45444\n",
       "Civil marriage           29775\n",
       "Separated                19770\n",
       "Widow                    16088\n",
       "Unknown                      2\n",
       "Name: NAME_FAMILY_STATUS, dtype: int64"
      ]
     },
     "execution_count": 503,
     "metadata": {},
     "output_type": "execute_result"
    }
   ],
   "source": [
    "###### Family Status of the Client Correction of Few Records. 2 Records have value Unknown\n",
    "###### This can be replaced by Mode value i.e Married. It wouldnt affect the analysis\n",
    "loan_data.NAME_FAMILY_STATUS.value_counts()"
   ]
  },
  {
   "cell_type": "code",
   "execution_count": 504,
   "metadata": {},
   "outputs": [],
   "source": [
    "loan_data['NAME_FAMILY_STATUS']= loan_data['NAME_FAMILY_STATUS'].replace('Unknown','Married')"
   ]
  },
  {
   "cell_type": "code",
   "execution_count": 505,
   "metadata": {},
   "outputs": [
    {
     "data": {
      "text/plain": [
       "Married                 196434\n",
       "Single / not married     45444\n",
       "Civil marriage           29775\n",
       "Separated                19770\n",
       "Widow                    16088\n",
       "Name: NAME_FAMILY_STATUS, dtype: int64"
      ]
     },
     "execution_count": 505,
     "metadata": {},
     "output_type": "execute_result"
    }
   ],
   "source": [
    "##### Now Recheck the Data if the records are cleansed\n",
    "loan_data.NAME_FAMILY_STATUS.value_counts()"
   ]
  },
  {
   "cell_type": "code",
   "execution_count": 257,
   "metadata": {},
   "outputs": [
    {
     "data": {
      "text/plain": [
       "Laborers                 55186\n",
       "Sales staff              32102\n",
       "Core staff               27570\n",
       "Managers                 21371\n",
       "Drivers                  18603\n",
       "High skill tech staff    11380\n",
       "Accountants               9813\n",
       "Medicine staff            8537\n",
       "Security staff            6721\n",
       "Cooking staff             5946\n",
       "Cleaning staff            4653\n",
       "Private service staff     2652\n",
       "Low-skill Laborers        2093\n",
       "Waiters/barmen staff      1348\n",
       "Secretaries               1305\n",
       "Realty agents              751\n",
       "HR staff                   563\n",
       "IT staff                   526\n",
       "Name: OCCUPATION_TYPE, dtype: int64"
      ]
     },
     "execution_count": 257,
     "metadata": {},
     "output_type": "execute_result"
    }
   ],
   "source": [
    "loan_data['OCCUPATION_TYPE'].value_counts()"
   ]
  },
  {
   "cell_type": "code",
   "execution_count": 263,
   "metadata": {},
   "outputs": [],
   "source": [
    "loan_data_occupationTypeBlank = loan_data[loan_data['OCCUPATION_TYPE'].isnull()]"
   ]
  },
  {
   "cell_type": "code",
   "execution_count": 287,
   "metadata": {},
   "outputs": [],
   "source": [
    "loan_data_occupationTypeNotBlank = loan_data[~loan_data['OCCUPATION_TYPE'].isnull()]"
   ]
  },
  {
   "cell_type": "code",
   "execution_count": 288,
   "metadata": {},
   "outputs": [
    {
     "data": {
      "text/plain": [
       "(211120, 43)"
      ]
     },
     "execution_count": 288,
     "metadata": {},
     "output_type": "execute_result"
    }
   ],
   "source": [
    "loan_data_occupationTypeNotBlank.shape"
   ]
  },
  {
   "cell_type": "code",
   "execution_count": 284,
   "metadata": {},
   "outputs": [
    {
     "data": {
      "text/plain": [
       "(41484, 43)"
      ]
     },
     "execution_count": 284,
     "metadata": {},
     "output_type": "execute_result"
    }
   ],
   "source": [
    "loan_data_occupationTypeBlank[(loan_data_occupationTypeBlank['AMT_INCOME_TOTAL']>90000) & (loan_data_occupationTypeBlank['AMT_INCOME_TOTAL']<180000)].shape"
   ]
  },
  {
   "cell_type": "code",
   "execution_count": 286,
   "metadata": {},
   "outputs": [
    {
     "data": {
      "text/plain": [
       "(23540, 43)"
      ]
     },
     "execution_count": 286,
     "metadata": {},
     "output_type": "execute_result"
    }
   ],
   "source": [
    "loan_data_occupationTypeBlank[(loan_data_occupationTypeBlank['AMT_INCOME_TOTAL']>180000) & (loan_data_occupationTypeBlank['AMT_INCOME_TOTAL']<180000000)].shape"
   ]
  },
  {
   "cell_type": "code",
   "execution_count": 283,
   "metadata": {},
   "outputs": [
    {
     "data": {
      "text/plain": [
       "count    9.639100e+04\n",
       "mean     1.535160e+05\n",
       "std      1.150286e+05\n",
       "min      2.565000e+04\n",
       "25%      9.000000e+04\n",
       "50%      1.350000e+05\n",
       "75%      1.800000e+05\n",
       "max      1.800009e+07\n",
       "Name: AMT_INCOME_TOTAL, dtype: float64"
      ]
     },
     "execution_count": 283,
     "metadata": {},
     "output_type": "execute_result"
    }
   ],
   "source": [
    "loan_data_occupationTypeBlank.AMT_INCOME_TOTAL.describe()"
   ]
  },
  {
   "cell_type": "code",
   "execution_count": 535,
   "metadata": {},
   "outputs": [
    {
     "data": {
      "text/plain": [
       "count    3.075110e+05\n",
       "mean     1.687979e+05\n",
       "std      2.371231e+05\n",
       "min      2.565000e+04\n",
       "25%      1.125000e+05\n",
       "50%      1.471500e+05\n",
       "75%      2.025000e+05\n",
       "max      1.170000e+08\n",
       "Name: AMT_INCOME_TOTAL, dtype: float64"
      ]
     },
     "execution_count": 535,
     "metadata": {},
     "output_type": "execute_result"
    }
   ],
   "source": [
    "loan_data.AMT_INCOME_TOTAL.describe()"
   ]
  },
  {
   "cell_type": "code",
   "execution_count": 523,
   "metadata": {},
   "outputs": [
    {
     "data": {
      "image/png": "[encoded data removed]",
      "text/plain": [
       "<Figure size 1080x648 with 1 Axes>"
      ]
     },
     "metadata": {
      "needs_background": "light"
     },
     "output_type": "display_data"
    }
   ],
   "source": [
    "plt.figure(figsize=[15,9])\n",
    "sns.boxplot((loan_data_occupationTypeBlank['AMT_INCOME_TOTAL']>100000) & (loan_data_occupationTypeBlank['AMT_INCOME_TOTAL']<300000))\n",
    "plt.show()\n"
   ]
  },
  {
   "cell_type": "code",
   "execution_count": 513,
   "metadata": {},
   "outputs": [
    {
     "data": {
      "text/plain": [
       "(22739, 43)"
      ]
     },
     "execution_count": 513,
     "metadata": {},
     "output_type": "execute_result"
    }
   ],
   "source": [
    "loan_data[loan_data['AMT_INCOME_TOTAL'] > 300000].shape"
   ]
  },
  {
   "cell_type": "code",
   "execution_count": 282,
   "metadata": {},
   "outputs": [
    {
     "data": {
      "text/html": [
       "<div>\n",
       "<style scoped>\n",
       "    .dataframe tbody tr th:only-of-type {\n",
       "        vertical-align: middle;\n",
       "    }\n",
       "\n",
       "    .dataframe tbody tr th {\n",
       "        vertical-align: top;\n",
       "    }\n",
       "\n",
       "    .dataframe thead th {\n",
       "        text-align: right;\n",
       "    }\n",
       "</style>\n",
       "<table border=\"1\" class=\"dataframe\">\n",
       "  <thead>\n",
       "    <tr style=\"text-align: right;\">\n",
       "      <th></th>\n",
       "      <th>count</th>\n",
       "      <th>mean</th>\n",
       "      <th>std</th>\n",
       "      <th>min</th>\n",
       "      <th>25%</th>\n",
       "      <th>50%</th>\n",
       "      <th>75%</th>\n",
       "      <th>max</th>\n",
       "    </tr>\n",
       "    <tr>\n",
       "      <th>OCCUPATION_TYPE</th>\n",
       "      <th></th>\n",
       "      <th></th>\n",
       "      <th></th>\n",
       "      <th></th>\n",
       "      <th></th>\n",
       "      <th></th>\n",
       "      <th></th>\n",
       "      <th></th>\n",
       "    </tr>\n",
       "  </thead>\n",
       "  <tbody>\n",
       "    <tr>\n",
       "      <th>Accountants</th>\n",
       "      <td>9813.0</td>\n",
       "      <td>194578.357842</td>\n",
       "      <td>108876.812807</td>\n",
       "      <td>27000.0</td>\n",
       "      <td>130500.0</td>\n",
       "      <td>178650.0</td>\n",
       "      <td>225000.0</td>\n",
       "      <td>2214117.0</td>\n",
       "    </tr>\n",
       "    <tr>\n",
       "      <th>Cleaning staff</th>\n",
       "      <td>4653.0</td>\n",
       "      <td>130790.895551</td>\n",
       "      <td>64075.793833</td>\n",
       "      <td>25650.0</td>\n",
       "      <td>90000.0</td>\n",
       "      <td>112500.0</td>\n",
       "      <td>157500.0</td>\n",
       "      <td>1080000.0</td>\n",
       "    </tr>\n",
       "    <tr>\n",
       "      <th>Cooking staff</th>\n",
       "      <td>5946.0</td>\n",
       "      <td>138396.508176</td>\n",
       "      <td>62742.083077</td>\n",
       "      <td>27000.0</td>\n",
       "      <td>90000.0</td>\n",
       "      <td>126000.0</td>\n",
       "      <td>171000.0</td>\n",
       "      <td>540000.0</td>\n",
       "    </tr>\n",
       "    <tr>\n",
       "      <th>Core staff</th>\n",
       "      <td>27570.0</td>\n",
       "      <td>172656.695254</td>\n",
       "      <td>98147.105697</td>\n",
       "      <td>27000.0</td>\n",
       "      <td>112500.0</td>\n",
       "      <td>157500.0</td>\n",
       "      <td>202500.0</td>\n",
       "      <td>3600000.0</td>\n",
       "    </tr>\n",
       "    <tr>\n",
       "      <th>Drivers</th>\n",
       "      <td>18603.0</td>\n",
       "      <td>187011.606413</td>\n",
       "      <td>82593.382899</td>\n",
       "      <td>27000.0</td>\n",
       "      <td>135000.0</td>\n",
       "      <td>180000.0</td>\n",
       "      <td>225000.0</td>\n",
       "      <td>2475000.0</td>\n",
       "    </tr>\n",
       "    <tr>\n",
       "      <th>HR staff</th>\n",
       "      <td>563.0</td>\n",
       "      <td>188916.282416</td>\n",
       "      <td>93155.321259</td>\n",
       "      <td>30600.0</td>\n",
       "      <td>135000.0</td>\n",
       "      <td>158400.0</td>\n",
       "      <td>225000.0</td>\n",
       "      <td>699750.0</td>\n",
       "    </tr>\n",
       "    <tr>\n",
       "      <th>High skill tech staff</th>\n",
       "      <td>11380.0</td>\n",
       "      <td>182842.045683</td>\n",
       "      <td>95711.001374</td>\n",
       "      <td>27000.0</td>\n",
       "      <td>112500.0</td>\n",
       "      <td>157500.0</td>\n",
       "      <td>225000.0</td>\n",
       "      <td>1890000.0</td>\n",
       "    </tr>\n",
       "    <tr>\n",
       "      <th>IT staff</th>\n",
       "      <td>526.0</td>\n",
       "      <td>213465.601711</td>\n",
       "      <td>142009.791936</td>\n",
       "      <td>45000.0</td>\n",
       "      <td>135000.0</td>\n",
       "      <td>180000.0</td>\n",
       "      <td>247500.0</td>\n",
       "      <td>2025000.0</td>\n",
       "    </tr>\n",
       "    <tr>\n",
       "      <th>Laborers</th>\n",
       "      <td>55186.0</td>\n",
       "      <td>166357.482525</td>\n",
       "      <td>504164.664318</td>\n",
       "      <td>27000.0</td>\n",
       "      <td>112500.0</td>\n",
       "      <td>157500.0</td>\n",
       "      <td>202500.0</td>\n",
       "      <td>117000000.0</td>\n",
       "    </tr>\n",
       "    <tr>\n",
       "      <th>Low-skill Laborers</th>\n",
       "      <td>2093.0</td>\n",
       "      <td>133228.001911</td>\n",
       "      <td>54003.583810</td>\n",
       "      <td>27000.0</td>\n",
       "      <td>90000.0</td>\n",
       "      <td>121500.0</td>\n",
       "      <td>157500.0</td>\n",
       "      <td>450000.0</td>\n",
       "    </tr>\n",
       "    <tr>\n",
       "      <th>Managers</th>\n",
       "      <td>21371.0</td>\n",
       "      <td>260336.681717</td>\n",
       "      <td>184940.984890</td>\n",
       "      <td>27000.0</td>\n",
       "      <td>157500.0</td>\n",
       "      <td>225000.0</td>\n",
       "      <td>315000.0</td>\n",
       "      <td>9000000.0</td>\n",
       "    </tr>\n",
       "    <tr>\n",
       "      <th>Medicine staff</th>\n",
       "      <td>8537.0</td>\n",
       "      <td>149709.643434</td>\n",
       "      <td>74078.798526</td>\n",
       "      <td>26550.0</td>\n",
       "      <td>99000.0</td>\n",
       "      <td>135000.0</td>\n",
       "      <td>180000.0</td>\n",
       "      <td>1350000.0</td>\n",
       "    </tr>\n",
       "    <tr>\n",
       "      <th>Private service staff</th>\n",
       "      <td>2652.0</td>\n",
       "      <td>182334.812783</td>\n",
       "      <td>104751.224342</td>\n",
       "      <td>36000.0</td>\n",
       "      <td>121500.0</td>\n",
       "      <td>157500.0</td>\n",
       "      <td>225000.0</td>\n",
       "      <td>3150000.0</td>\n",
       "    </tr>\n",
       "    <tr>\n",
       "      <th>Realty agents</th>\n",
       "      <td>751.0</td>\n",
       "      <td>195003.994674</td>\n",
       "      <td>82992.755612</td>\n",
       "      <td>67500.0</td>\n",
       "      <td>135000.0</td>\n",
       "      <td>180000.0</td>\n",
       "      <td>225000.0</td>\n",
       "      <td>675000.0</td>\n",
       "    </tr>\n",
       "    <tr>\n",
       "      <th>Sales staff</th>\n",
       "      <td>32102.0</td>\n",
       "      <td>152302.874710</td>\n",
       "      <td>77616.226957</td>\n",
       "      <td>27000.0</td>\n",
       "      <td>103500.0</td>\n",
       "      <td>135000.0</td>\n",
       "      <td>180000.0</td>\n",
       "      <td>2025000.0</td>\n",
       "    </tr>\n",
       "    <tr>\n",
       "      <th>Secretaries</th>\n",
       "      <td>1305.0</td>\n",
       "      <td>160541.662069</td>\n",
       "      <td>115258.230585</td>\n",
       "      <td>45000.0</td>\n",
       "      <td>107284.5</td>\n",
       "      <td>135000.0</td>\n",
       "      <td>180000.0</td>\n",
       "      <td>2025000.0</td>\n",
       "    </tr>\n",
       "    <tr>\n",
       "      <th>Security staff</th>\n",
       "      <td>6721.0</td>\n",
       "      <td>149662.695953</td>\n",
       "      <td>69621.523467</td>\n",
       "      <td>27000.0</td>\n",
       "      <td>103500.0</td>\n",
       "      <td>135000.0</td>\n",
       "      <td>180000.0</td>\n",
       "      <td>832500.0</td>\n",
       "    </tr>\n",
       "    <tr>\n",
       "      <th>Waiters/barmen staff</th>\n",
       "      <td>1348.0</td>\n",
       "      <td>144272.583828</td>\n",
       "      <td>67068.772193</td>\n",
       "      <td>29250.0</td>\n",
       "      <td>90000.0</td>\n",
       "      <td>135000.0</td>\n",
       "      <td>180000.0</td>\n",
       "      <td>585000.0</td>\n",
       "    </tr>\n",
       "  </tbody>\n",
       "</table>\n",
       "</div>"
      ],
      "text/plain": [
       "                         count           mean            std      min  \\\n",
       "OCCUPATION_TYPE                                                         \n",
       "Accountants             9813.0  194578.357842  108876.812807  27000.0   \n",
       "Cleaning staff          4653.0  130790.895551   64075.793833  25650.0   \n",
       "Cooking staff           5946.0  138396.508176   62742.083077  27000.0   \n",
       "Core staff             27570.0  172656.695254   98147.105697  27000.0   \n",
       "Drivers                18603.0  187011.606413   82593.382899  27000.0   \n",
       "HR staff                 563.0  188916.282416   93155.321259  30600.0   \n",
       "High skill tech staff  11380.0  182842.045683   95711.001374  27000.0   \n",
       "IT staff                 526.0  213465.601711  142009.791936  45000.0   \n",
       "Laborers               55186.0  166357.482525  504164.664318  27000.0   \n",
       "Low-skill Laborers      2093.0  133228.001911   54003.583810  27000.0   \n",
       "Managers               21371.0  260336.681717  184940.984890  27000.0   \n",
       "Medicine staff          8537.0  149709.643434   74078.798526  26550.0   \n",
       "Private service staff   2652.0  182334.812783  104751.224342  36000.0   \n",
       "Realty agents            751.0  195003.994674   82992.755612  67500.0   \n",
       "Sales staff            32102.0  152302.874710   77616.226957  27000.0   \n",
       "Secretaries             1305.0  160541.662069  115258.230585  45000.0   \n",
       "Security staff          6721.0  149662.695953   69621.523467  27000.0   \n",
       "Waiters/barmen staff    1348.0  144272.583828   67068.772193  29250.0   \n",
       "\n",
       "                            25%       50%       75%          max  \n",
       "OCCUPATION_TYPE                                                   \n",
       "Accountants            130500.0  178650.0  225000.0    2214117.0  \n",
       "Cleaning staff          90000.0  112500.0  157500.0    1080000.0  \n",
       "Cooking staff           90000.0  126000.0  171000.0     540000.0  \n",
       "Core staff             112500.0  157500.0  202500.0    3600000.0  \n",
       "Drivers                135000.0  180000.0  225000.0    2475000.0  \n",
       "HR staff               135000.0  158400.0  225000.0     699750.0  \n",
       "High skill tech staff  112500.0  157500.0  225000.0    1890000.0  \n",
       "IT staff               135000.0  180000.0  247500.0    2025000.0  \n",
       "Laborers               112500.0  157500.0  202500.0  117000000.0  \n",
       "Low-skill Laborers      90000.0  121500.0  157500.0     450000.0  \n",
       "Managers               157500.0  225000.0  315000.0    9000000.0  \n",
       "Medicine staff          99000.0  135000.0  180000.0    1350000.0  \n",
       "Private service staff  121500.0  157500.0  225000.0    3150000.0  \n",
       "Realty agents          135000.0  180000.0  225000.0     675000.0  \n",
       "Sales staff            103500.0  135000.0  180000.0    2025000.0  \n",
       "Secretaries            107284.5  135000.0  180000.0    2025000.0  \n",
       "Security staff         103500.0  135000.0  180000.0     832500.0  \n",
       "Waiters/barmen staff    90000.0  135000.0  180000.0     585000.0  "
      ]
     },
     "execution_count": 282,
     "metadata": {},
     "output_type": "execute_result"
    }
   ],
   "source": [
    "loan_data.groupby('OCCUPATION_TYPE')['AMT_INCOME_TOTAL'].describe()"
   ]
  },
  {
   "cell_type": "code",
   "execution_count": 560,
   "metadata": {},
   "outputs": [],
   "source": [
    "def plot_func(dim):\n",
    "    loan_data_Analysis_by_dim = loan_data.loc[:,['TARGET',dim,'SK_ID_CURR']]\n",
    "    denom=loan_data_Analysis_by_dim.groupby(dim).count()\n",
    "    numer=loan_data_Analysis_by_dim.groupby([dim,'TARGET']).count()\n",
    "    final_dim_proportionatedata = round(numer*100/denom,2)\n",
    "    final_dim_proportionatedata.drop(columns=['TARGET'],inplace=True)\n",
    "    figure, axes = plt.subplots(1, 2)\n",
    "    final_dim_proportionatedata.iloc[1::2].sort_values('SK_ID_CURR').plot(kind='bar',figsize=(15,8),ax=axes[0],title=\"Defaulters by \" + dim)\n",
    "    final_dim_proportionatedata.iloc[0::2].sort_values('SK_ID_CURR').plot(kind='bar',figsize=(15,8),ax=axes[1],title=\"Non-Defaulters \" + dim)"
   ]
  },
  {
   "cell_type": "code",
   "execution_count": 26,
   "metadata": {},
   "outputs": [],
   "source": [
    "loan_data_Target0 = loan_data[loan_data['TARGET'] == 0]\n",
    "loan_data_Target1 = loan_data[loan_data['TARGET'] == 1]"
   ]
  },
  {
   "cell_type": "code",
   "execution_count": 28,
   "metadata": {},
   "outputs": [],
   "source": [
    "def testing(dataframe,dim):\n",
    "    fig = plt.figure(figsize=(13,10))\n",
    "    ax1 = plt.subplot(221)\n",
    "    dataframe[dim].value_counts().plot.pie(autopct = \"%1.0f%%\" , ax = ax1)\n",
    "    plt.title(\"Pic Chart\")\n",
    "    ax2 = plt.subplot(222)\n",
    "    sns.countplot(x=dim,hue='TARGET',data=dataframe,ax=ax2)\n",
    "    plt.xticks(rotation=90)\n",
    "    plt.title(\"Plotting data for target in terms of total count\")\n",
    "    ax3 = plt.subplot(223)\n",
    "    df=pd.DataFrame()\n",
    "    df['0'] = ((loan_data_Target0[dim].value_counts())/len(loan_data_Target0))\n",
    "    df['1'] = ((loan_data_Target1[dim].value_counts())/len(loan_data_Target1))\n",
    "    df.plot.bar(ax=ax3)\n",
    "    plt.title(\"plotting data in terms of percentage\")\n",
    "    fig.tight_layout()\n",
    "    plt.show()"
   ]
  },
  {
   "cell_type": "code",
   "execution_count": 29,
   "metadata": {},
   "outputs": [
    {
     "data": {
      "image/png": "[encoded data removed]",
      "text/plain": [
       "<Figure size 936x720 with 3 Axes>"
      ]
     },
     "metadata": {
      "needs_background": "light"
     },
     "output_type": "display_data"
    }
   ],
   "source": [
    "testing(loan_data,'CODE_GENDER')"
   ]
  },
  {
   "cell_type": "code",
   "execution_count": 563,
   "metadata": {},
   "outputs": [
    {
     "data": {
      "image/png": "[encoded data removed]",
      "text/plain": [
       "<Figure size 1080x576 with 2 Axes>"
      ]
     },
     "metadata": {
      "needs_background": "light"
     },
     "output_type": "display_data"
    }
   ],
   "source": [
    "plot_func('CODE_GENDER')"
   ]
  },
  {
   "cell_type": "code",
   "execution_count": 578,
   "metadata": {},
   "outputs": [
    {
     "data": {
      "image/png": "[encoded data removed]",
      "text/plain": [
       "<Figure size 864x648 with 2 Axes>"
      ]
     },
     "metadata": {
      "needs_background": "light"
     },
     "output_type": "display_data"
    }
   ],
   "source": [
    "df10 = final_GenderTarget_Proportions.reset_index()\n",
    "Target0_Data = df10[df10['TARGET'] == 0].sort_values(by='CODE_GENDER')\n",
    "Target1_Data = df10[df10['TARGET'] == 1].sort_values(by='CODE_GENDER')\n",
    "plt.figure(figsize=[12,9])\n",
    "plt.subplot(1,2,1)\n",
    "sns.barplot(x=Target0_Data['CODE_GENDER'],y=Target0_Data['SK_ID_CURR'])\n",
    "plt.subplot(1,2,2)\n",
    "sns.barplot(x=Target1_Data['CODE_GENDER'],y=Target1_Data['SK_ID_CURR'])\n",
    "plt.show()"
   ]
  },
  {
   "cell_type": "markdown",
   "metadata": {},
   "source": [
    " # UniVariate Analysis"
   ]
  },
  {
   "cell_type": "code",
   "execution_count": 569,
   "metadata": {},
   "outputs": [
    {
     "data": {
      "text/plain": [
       "<matplotlib.axes._subplots.AxesSubplot at 0x26e955be3d0>"
      ]
     },
     "execution_count": 569,
     "metadata": {},
     "output_type": "execute_result"
    },
    {
     "data": {
      "image/png": "[encoded data removed]",
      "text/plain": [
       "<Figure size 720x576 with 1 Axes>"
      ]
     },
     "metadata": {
      "needs_background": "light"
     },
     "output_type": "display_data"
    },
    {
     "data": {
      "image/png": "[encoded data removed]",
      "text/plain": [
       "<Figure size 720x576 with 1 Axes>"
      ]
     },
     "metadata": {
      "needs_background": "light"
     },
     "output_type": "display_data"
    }
   ],
   "source": [
    "loan_data_GenderTarget = loan_data.loc[:,['TARGET','CODE_GENDER','SK_ID_CURR']]\n",
    "denom=loan_data_GenderTarget.groupby('CODE_GENDER').count()\n",
    "numer=loan_data_GenderTarget.groupby(['CODE_GENDER','TARGET']).count()\n",
    "final_GenderTarget_Proportions = round(numer*100/denom,2)\n",
    "final_GenderTarget_Proportions.drop(columns=['TARGET'],inplace=True)\n",
    "final_GenderTarget_Proportions.iloc[1::2].plot(kind='bar',figsize=(10,8))\n",
    "final_GenderTarget_Proportions.iloc[0::2].plot(kind='bar',figsize=(10,8))"
   ]
  },
  {
   "cell_type": "code",
   "execution_count": 289,
   "metadata": {},
   "outputs": [
    {
     "data": {
      "text/plain": [
       "Laborers                 0.261396\n",
       "Sales staff              0.152056\n",
       "Core staff               0.130589\n",
       "Managers                 0.101227\n",
       "Drivers                  0.088116\n",
       "High skill tech staff    0.053903\n",
       "Accountants              0.046481\n",
       "Medicine staff           0.040437\n",
       "Security staff           0.031835\n",
       "Cooking staff            0.028164\n",
       "Cleaning staff           0.022040\n",
       "Private service staff    0.012562\n",
       "Low-skill Laborers       0.009914\n",
       "Waiters/barmen staff     0.006385\n",
       "Secretaries              0.006181\n",
       "Realty agents            0.003557\n",
       "HR staff                 0.002667\n",
       "IT staff                 0.002491\n",
       "Name: OCCUPATION_TYPE, dtype: float64"
      ]
     },
     "execution_count": 289,
     "metadata": {},
     "output_type": "execute_result"
    }
   ],
   "source": [
    "#######Occupation Type Analysis\n",
    "loan_data_occupationTypeNotBlank.OCCUPATION_TYPE.value_counts(normalize=True)"
   ]
  },
  {
   "cell_type": "code",
   "execution_count": 474,
   "metadata": {
    "scrolled": true
   },
   "outputs": [
    {
     "data": {
      "text/plain": [
       "<matplotlib.axes._subplots.AxesSubplot at 0x26ed2854b20>"
      ]
     },
     "execution_count": 474,
     "metadata": {},
     "output_type": "execute_result"
    },
    {
     "data": {
      "image/png": "[encoded data removed]",
      "text/plain": [
       "<Figure size 1080x720 with 2 Axes>"
      ]
     },
     "metadata": {
      "needs_background": "light"
     },
     "output_type": "display_data"
    }
   ],
   "source": [
    "loan_data_OcuupationTypeTarget = loan_data_occupationTypeNotBlank.loc[:,['TARGET','OCCUPATION_TYPE','SK_ID_CURR']]\n",
    "denom=loan_data_OcuupationTypeTarget.groupby('OCCUPATION_TYPE').count()\n",
    "numer=loan_data_OcuupationTypeTarget.groupby(['OCCUPATION_TYPE','TARGET']).count()\n",
    "final_OccupationTypeTarget_Proportions = round(numer*100/denom,2)\n",
    "final_OccupationTypeTarget_Proportions\n",
    "final_OccupationTypeTarget_Proportions.drop(columns=['TARGET'],inplace=True)\n",
    "figure, axes = plt.subplots(1, 2)\n",
    "final_OccupationTypeTarget_Proportions.iloc[1::2].sort_values('SK_ID_CURR').plot(kind='barh',figsize=(15,10),ax=axes[0])\n",
    "final_OccupationTypeTarget_Proportions.iloc[0::2].sort_values('SK_ID_CURR').plot(kind='barh',figsize=(15,10),ax=axes[1])"
   ]
  },
  {
   "cell_type": "code",
   "execution_count": 415,
   "metadata": {},
   "outputs": [],
   "source": [
    "#####Organization Type Analysis\n",
    "loan_data_organizationTypeNotBlank = loan_data[loan_data['ORGANIZATION_TYPE'] != 'XNA']"
   ]
  },
  {
   "cell_type": "code",
   "execution_count": 426,
   "metadata": {},
   "outputs": [
    {
     "data": {
      "text/plain": [
       "<matplotlib.axes._subplots.AxesSubplot at 0x26e91851070>"
      ]
     },
     "execution_count": 426,
     "metadata": {},
     "output_type": "execute_result"
    },
    {
     "data": {
      "image/png": "[encoded data removed]",
      "text/plain": [
       "<Figure size 1080x1080 with 1 Axes>"
      ]
     },
     "metadata": {
      "needs_background": "light"
     },
     "output_type": "display_data"
    }
   ],
   "source": [
    "loan_data_organizationTypeTarget = loan_data_occupationTypeNotBlank.loc[:,['TARGET','ORGANIZATION_TYPE','SK_ID_CURR']]\n",
    "denom=loan_data_organizationTypeTarget.groupby('ORGANIZATION_TYPE').count()\n",
    "numer=loan_data_organizationTypeTarget.groupby(['ORGANIZATION_TYPE','TARGET']).count()\n",
    "final_organizationTypeTarget_Proportions = numer*100/denom\n",
    "final_organizationTypeTarget_Proportions\n",
    "final_organizationTypeTarget_Proportions.drop(columns=['TARGET'],inplace=True)\n",
    "final_organizationTypeTarget_Proportions.iloc[1::2].sort_values('SK_ID_CURR').plot(kind='barh',figsize=(15,15))\n"
   ]
  },
  {
   "cell_type": "code",
   "execution_count": 378,
   "metadata": {},
   "outputs": [
    {
     "data": {
      "image/png": "[encoded data removed]",
      "text/plain": [
       "<Figure size 864x648 with 2 Axes>"
      ]
     },
     "metadata": {
      "needs_background": "light"
     },
     "output_type": "display_data"
    }
   ],
   "source": [
    "##### Loan Amt Analysis\n",
    "loan_data_Target1 = loan_data[loan_data['TARGET']== 1]\n",
    "loan_data_Target0 = loan_data[loan_data['TARGET']== 0]\n",
    "plt.figure(figsize=[12,9])\n",
    "plt.subplot(1,2,1)\n",
    "sns.boxplot(loan_data_Target1['AMT_CREDIT'],orient='v')\n",
    "plt.subplot(1,2,2)\n",
    "sns.boxplot(loan_data_Target0['AMT_CREDIT'],orient='v')\n",
    "plt.show()"
   ]
  },
  {
   "cell_type": "code",
   "execution_count": 337,
   "metadata": {},
   "outputs": [
    {
     "data": {
      "text/plain": [
       "0.8818932527693857"
      ]
     },
     "execution_count": 337,
     "metadata": {},
     "output_type": "execute_result"
    }
   ],
   "source": [
    "loan_data_Target1[loan_data_Target1['AMT_CREDIT'] < 1000000].shape[0]/loan_data_Target1.shape[0]"
   ]
  },
  {
   "cell_type": "code",
   "execution_count": 338,
   "metadata": {},
   "outputs": [
    {
     "data": {
      "text/plain": [
       "0.8335502996257331"
      ]
     },
     "execution_count": 338,
     "metadata": {},
     "output_type": "execute_result"
    }
   ],
   "source": [
    "loan_data_Target0[loan_data_Target0['AMT_CREDIT'] < 1000000].shape[0]/loan_data_Target0.shape[0]"
   ]
  },
  {
   "cell_type": "code",
   "execution_count": 382,
   "metadata": {},
   "outputs": [
    {
     "data": {
      "image/png": "[encoded data removed]",
      "text/plain": [
       "<Figure size 1080x648 with 2 Axes>"
      ]
     },
     "metadata": {
      "needs_background": "light"
     },
     "output_type": "display_data"
    }
   ],
   "source": [
    "plt.figure(figsize=[15,9])\n",
    "plt.subplot(1,2,1)\n",
    "sns.boxplot(loan_data_Target1['AMT_INCOME_TOTAL'],orient='v')\n",
    "plt.subplot(1,2,2)\n",
    "sns.boxplot(loan_data_Target0['AMT_INCOME_TOTAL'],orient='v')\n",
    "plt.show()"
   ]
  },
  {
   "cell_type": "code",
   "execution_count": 364,
   "metadata": {},
   "outputs": [
    {
     "data": {
      "text/plain": [
       "0.7350251762336355"
      ]
     },
     "execution_count": 364,
     "metadata": {},
     "output_type": "execute_result"
    }
   ],
   "source": [
    "loan_data_Target1[(loan_data_Target1['AMT_INCOME_TOTAL']>100000) & (loan_data_Target1['AMT_INCOME_TOTAL']<300000)].shape[0]/loan_data_Target1.shape[0]"
   ]
  },
  {
   "cell_type": "code",
   "execution_count": 368,
   "metadata": {},
   "outputs": [
    {
     "data": {
      "text/plain": [
       "0.717499274813751"
      ]
     },
     "execution_count": 368,
     "metadata": {},
     "output_type": "execute_result"
    }
   ],
   "source": [
    "loan_data_Target0[(loan_data_Target0['AMT_INCOME_TOTAL']>100000) & (loan_data_Target0['AMT_INCOME_TOTAL']<300000)].shape[0]/loan_data_Target0.shape[0]"
   ]
  },
  {
   "cell_type": "code",
   "execution_count": 374,
   "metadata": {},
   "outputs": [
    {
     "data": {
      "text/plain": [
       "0.7931521193125942"
      ]
     },
     "execution_count": 374,
     "metadata": {},
     "output_type": "execute_result"
    }
   ],
   "source": [
    "loan_data_Target0[loan_data_Target0['AMT_INCOME_TOTAL']>100000].shape[0]/loan_data_Target0.shape[0]"
   ]
  },
  {
   "cell_type": "code",
   "execution_count": 131,
   "metadata": {},
   "outputs": [],
   "source": [
    "#### Creating Age Column based on Days_Birth\n",
    "loan_data['Age'] = abs(round((loan_data['DAYS_BIRTH'].replace('-',''))/365,2)).astype(int)"
   ]
  },
  {
   "cell_type": "code",
   "execution_count": 133,
   "metadata": {},
   "outputs": [
    {
     "data": {
      "image/png": "[encoded data removed]",
      "text/plain": [
       "<Figure size 1080x648 with 1 Axes>"
      ]
     },
     "metadata": {
      "needs_background": "light"
     },
     "output_type": "display_data"
    }
   ],
   "source": [
    "plt.figure(figsize=[15,9])\n",
    "sns.boxplot(loan_data['Age'])\n",
    "plt.show()"
   ]
  },
  {
   "cell_type": "code",
   "execution_count": 146,
   "metadata": {},
   "outputs": [
    {
     "data": {
      "text/plain": [
       "<matplotlib.axes._subplots.AxesSubplot at 0x26e8d722c40>"
      ]
     },
     "execution_count": 146,
     "metadata": {},
     "output_type": "execute_result"
    },
    {
     "data": {
      "image/png": "[encoded data removed]",
      "text/plain": [
       "<Figure size 432x288 with 1 Axes>"
      ]
     },
     "metadata": {
      "needs_background": "light"
     },
     "output_type": "display_data"
    }
   ],
   "source": [
    "##### Creating bins and plotting Histogram based on the bins \n",
    "loan_data['Age_Group'] = pd.cut(x=loan_data['Age'], bins=[20, 30, 40, 50, 60, 70], labels=['20 to 30', '31 to 40', '41 to 50', '51 to 60', '61 to 70']) \n",
    "loan_data.loc[:,'Age_Group'].value_counts().plot(kind='bar')"
   ]
  },
  {
   "cell_type": "code",
   "execution_count": 477,
   "metadata": {
    "scrolled": true
   },
   "outputs": [
    {
     "data": {
      "text/plain": [
       "<matplotlib.axes._subplots.AxesSubplot at 0x26e8ae25af0>"
      ]
     },
     "execution_count": 477,
     "metadata": {},
     "output_type": "execute_result"
    },
    {
     "data": {
      "image/png": "[encoded data removed]",
      "text/plain": [
       "<Figure size 1080x576 with 2 Axes>"
      ]
     },
     "metadata": {
      "needs_background": "light"
     },
     "output_type": "display_data"
    }
   ],
   "source": [
    "loan_data_ageTarget = loan_data.loc[:,['TARGET','Age_Group','SK_ID_CURR']]\n",
    "denom=loan_data_ageTarget.groupby('Age_Group').count()\n",
    "numer=loan_data_ageTarget.groupby(['Age_Group','TARGET']).count()\n",
    "final_AgeTarget_Props = round(numer*100/denom,2)\n",
    "final_AgeTarget_Props.drop(columns=['TARGET'],inplace=True)\n",
    "figure, axes = plt.subplots(1, 2)\n",
    "final_AgeTarget_Props.iloc[1::2].sort_values('SK_ID_CURR').plot(kind='bar',figsize=(15,8),ax=axes[0])\n",
    "final_AgeTarget_Props.iloc[0::2].sort_values('SK_ID_CURR').plot(kind='bar',figsize=(15,8),ax=axes[1])"
   ]
  },
  {
   "cell_type": "code",
   "execution_count": 297,
   "metadata": {},
   "outputs": [
    {
     "data": {
      "text/plain": [
       "Business Entity Type 3    0.221104\n",
       "XNA                       0.180072\n",
       "Self-employed             0.124913\n",
       "Other                     0.054252\n",
       "Medicine                  0.036399\n",
       "Business Entity Type 2    0.034317\n",
       "Government                0.033833\n",
       "School                    0.028919\n",
       "Trade: type 7             0.025466\n",
       "Kindergarten              0.022373\n",
       "Construction              0.021856\n",
       "Business Entity Type 1    0.019459\n",
       "Transport: type 4         0.017554\n",
       "Trade: type 3             0.011356\n",
       "Industry: type 9          0.010952\n",
       "Industry: type 3          0.010660\n",
       "Security                  0.010559\n",
       "Housing                   0.009619\n",
       "Industry: type 11         0.008793\n",
       "Military                  0.008566\n",
       "Bank                      0.008153\n",
       "Agriculture               0.007980\n",
       "Police                    0.007613\n",
       "Transport: type 2         0.007167\n",
       "Postal                    0.007014\n",
       "Security Ministries       0.006419\n",
       "Trade: type 2             0.006179\n",
       "Restaurant                0.005889\n",
       "Services                  0.005122\n",
       "University                0.004315\n",
       "Industry: type 7          0.004250\n",
       "Transport: type 3         0.003860\n",
       "Industry: type 1          0.003379\n",
       "Hotel                     0.003141\n",
       "Electricity               0.003089\n",
       "Industry: type 4          0.002852\n",
       "Trade: type 6             0.002052\n",
       "Industry: type 5          0.001948\n",
       "Insurance                 0.001941\n",
       "Telecom                   0.001876\n",
       "Emergency                 0.001821\n",
       "Industry: type 2          0.001489\n",
       "Advertising               0.001395\n",
       "Realtor                   0.001288\n",
       "Culture                   0.001232\n",
       "Industry: type 12         0.001200\n",
       "Trade: type 1             0.001132\n",
       "Mobile                    0.001031\n",
       "Legal Services            0.000992\n",
       "Cleaning                  0.000845\n",
       "Transport: type 1         0.000654\n",
       "Industry: type 6          0.000364\n",
       "Industry: type 10         0.000354\n",
       "Religion                  0.000276\n",
       "Industry: type 13         0.000218\n",
       "Trade: type 4             0.000208\n",
       "Trade: type 5             0.000159\n",
       "Industry: type 8          0.000078\n",
       "Name: ORGANIZATION_TYPE, dtype: float64"
      ]
     },
     "execution_count": 297,
     "metadata": {},
     "output_type": "execute_result"
    }
   ],
   "source": [
    "loan_data['ORGANIZATION_TYPE'].value_counts(normalize=True)"
   ]
  },
  {
   "cell_type": "code",
   "execution_count": 486,
   "metadata": {},
   "outputs": [
    {
     "data": {
      "text/plain": [
       "<matplotlib.axes._subplots.AxesSubplot at 0x26ea45c8550>"
      ]
     },
     "execution_count": 486,
     "metadata": {},
     "output_type": "execute_result"
    },
    {
     "data": {
      "image/png": "[encoded data removed]",
      "text/plain": [
       "<Figure size 1080x576 with 2 Axes>"
      ]
     },
     "metadata": {
      "needs_background": "light"
     },
     "output_type": "display_data"
    }
   ],
   "source": [
    "loan_data_EducationTypeTarget = loan_data.loc[:,['TARGET','NAME_EDUCATION_TYPE','SK_ID_CURR']]\n",
    "denom=loan_data_EducationTypeTarget.groupby('NAME_EDUCATION_TYPE').count()\n",
    "numer=loan_data_EducationTypeTarget.groupby(['NAME_EDUCATION_TYPE','TARGET']).count()\n",
    "final_EduTarget_Props = round(numer*100/denom,2)\n",
    "final_EduTarget_Props.drop(columns=['TARGET'],inplace=True)\n",
    "final_EduTarget_Props\n",
    "figure, axes = plt.subplots(1, 2)\n",
    "final_EduTarget_Props.iloc[1::2].sort_values('SK_ID_CURR').plot(kind='bar',figsize=(15,8),ax=axes[0])\n",
    "final_EduTarget_Props.iloc[0::2].sort_values('SK_ID_CURR').plot(kind='bar',figsize=(15,8),ax=axes[1])"
   ]
  },
  {
   "cell_type": "code",
   "execution_count": 448,
   "metadata": {},
   "outputs": [],
   "source": [
    "######### Count of Children . Number of Children > 5 is minimal in the data set . More than 99 % of the data has less than 5 children \n",
    "loan_data[loan_data['CNT_CHILDREN'] > 5].shape[0]/loan_data.shape[0]\n",
    "loan_data_byChildren = loan_data[loan_data['CNT_CHILDREN'] < 5]"
   ]
  },
  {
   "cell_type": "code",
   "execution_count": 470,
   "metadata": {},
   "outputs": [
    {
     "data": {
      "text/plain": [
       "<matplotlib.axes._subplots.AxesSubplot at 0x26ee07ae580>"
      ]
     },
     "execution_count": 470,
     "metadata": {},
     "output_type": "execute_result"
    },
    {
     "data": {
      "image/png": "[encoded data removed]",
      "text/plain": [
       "<Figure size 1080x576 with 2 Axes>"
      ]
     },
     "metadata": {
      "needs_background": "light"
     },
     "output_type": "display_data"
    }
   ],
   "source": [
    "loan_data_childrenTarget = loan_data_byChildren.loc[:,['TARGET','CNT_CHILDREN','SK_ID_CURR']]\n",
    "denom=loan_data_childrenTarget.groupby('CNT_CHILDREN').count()\n",
    "numer=loan_data_childrenTarget.groupby(['CNT_CHILDREN','TARGET']).count()\n",
    "final_ChildrenTarget_Props = round(numer*100/denom,2)\n",
    "final_ChildrenTarget_Props.drop(columns=['TARGET'],inplace=True)\n",
    "\n",
    "figure, axes = plt.subplots(1, 2)\n",
    "final_ChildrenTarget_Props.iloc[1::2].sort_values('SK_ID_CURR').plot(kind='bar',figsize=(15,8),ax=axes[0])\n",
    "final_ChildrenTarget_Props.iloc[0::2].sort_values('SK_ID_CURR').plot(kind='bar',figsize=(15,8),ax=axes[1])"
   ]
  },
  {
   "cell_type": "code",
   "execution_count": 487,
   "metadata": {},
   "outputs": [
    {
     "data": {
      "text/plain": [
       "House / apartment      0.887344\n",
       "With parents           0.048258\n",
       "Municipal apartment    0.036366\n",
       "Rented apartment       0.015873\n",
       "Office apartment       0.008510\n",
       "Co-op apartment        0.003649\n",
       "Name: NAME_HOUSING_TYPE, dtype: float64"
      ]
     },
     "execution_count": 487,
     "metadata": {},
     "output_type": "execute_result"
    }
   ],
   "source": [
    "######Living with Parents or not\n",
    "loan_data['NAME_HOUSING_TYPE'].value_counts(normalize=True)"
   ]
  },
  {
   "cell_type": "code",
   "execution_count": 500,
   "metadata": {},
   "outputs": [
    {
     "data": {
      "text/plain": [
       "<matplotlib.axes._subplots.AxesSubplot at 0x26effca5580>"
      ]
     },
     "execution_count": 500,
     "metadata": {},
     "output_type": "execute_result"
    },
    {
     "data": {
      "image/png": "[encoded data removed]",
      "text/plain": [
       "<Figure size 1080x576 with 2 Axes>"
      ]
     },
     "metadata": {
      "needs_background": "light"
     },
     "output_type": "display_data"
    }
   ],
   "source": [
    "loan_data_livingWithParents = loan_data.loc[:,['TARGET','NAME_HOUSING_TYPE','SK_ID_CURR']]\n",
    "denom=loan_data_livingWithParents.groupby('NAME_HOUSING_TYPE').count()\n",
    "numer=loan_data_livingWithParents.groupby(['NAME_HOUSING_TYPE','TARGET']).count()\n",
    "final_HousingTypeTarget_Props = round(numer*100/denom,2)\n",
    "final_HousingTypeTarget_Props.drop(columns=['TARGET'],inplace=True)\n",
    "\n",
    "figure, axes = plt.subplots(1, 2)\n",
    "final_HousingTypeTarget_Props.iloc[1::2].sort_values('SK_ID_CURR').plot(kind='bar',figsize=(15,8),ax=axes[0])\n",
    "final_HousingTypeTarget_Props.iloc[0::2].sort_values('SK_ID_CURR').plot(kind='bar',figsize=(15,8),ax=axes[1])\n",
    "\n"
   ]
  },
  {
   "cell_type": "code",
   "execution_count": 499,
   "metadata": {},
   "outputs": [
    {
     "data": {
      "text/plain": [
       "Married                 0.638780\n",
       "Single / not married    0.147780\n",
       "Civil marriage          0.096826\n",
       "Separated               0.064290\n",
       "Widow                   0.052317\n",
       "Unknown                 0.000007\n",
       "Name: NAME_FAMILY_STATUS, dtype: float64"
      ]
     },
     "execution_count": 499,
     "metadata": {},
     "output_type": "execute_result"
    }
   ],
   "source": [
    "###### Family Status of the client\n",
    "\n",
    "loan_data['NAME_FAMILY_STATUS'].value_counts(normalize=True)"
   ]
  },
  {
   "cell_type": "code",
   "execution_count": 506,
   "metadata": {},
   "outputs": [
    {
     "data": {
      "text/plain": [
       "<matplotlib.axes._subplots.AxesSubplot at 0x26f00088ac0>"
      ]
     },
     "execution_count": 506,
     "metadata": {},
     "output_type": "execute_result"
    },
    {
     "data": {
      "image/png": "[encoded data removed]",
      "text/plain": [
       "<Figure size 1080x576 with 2 Axes>"
      ]
     },
     "metadata": {
      "needs_background": "light"
     },
     "output_type": "display_data"
    }
   ],
   "source": [
    "loan_data_FamiltyStatus = loan_data.loc[:,['TARGET','NAME_FAMILY_STATUS','SK_ID_CURR']]\n",
    "denom=loan_data_FamiltyStatus.groupby('NAME_FAMILY_STATUS').count()\n",
    "numer=loan_data_FamiltyStatus.groupby(['NAME_FAMILY_STATUS','TARGET']).count()\n",
    "final_FamilyStatus_Props = round(numer*100/denom,2)\n",
    "final_FamilyStatus_Props.drop(columns=['TARGET'],inplace=True)\n",
    "figure, axes = plt.subplots(1, 2)\n",
    "final_FamilyStatus_Props.iloc[1::2].sort_values('SK_ID_CURR').plot(kind='bar',figsize=(15,8),ax=axes[0])\n",
    "final_FamilyStatus_Props.iloc[0::2].sort_values('SK_ID_CURR').plot(kind='bar',figsize=(15,8),ax=axes[1])"
   ]
  },
  {
   "cell_type": "code",
   "execution_count": 230,
   "metadata": {},
   "outputs": [
    {
     "data": {
      "text/html": [
       "<div>\n",
       "<style scoped>\n",
       "    .dataframe tbody tr th:only-of-type {\n",
       "        vertical-align: middle;\n",
       "    }\n",
       "\n",
       "    .dataframe tbody tr th {\n",
       "        vertical-align: top;\n",
       "    }\n",
       "\n",
       "    .dataframe thead th {\n",
       "        text-align: right;\n",
       "    }\n",
       "</style>\n",
       "<table border=\"1\" class=\"dataframe\">\n",
       "  <thead>\n",
       "    <tr style=\"text-align: right;\">\n",
       "      <th></th>\n",
       "      <th>SK_ID_CURR</th>\n",
       "      <th>TARGET</th>\n",
       "      <th>NAME_CONTRACT_TYPE</th>\n",
       "      <th>CODE_GENDER</th>\n",
       "      <th>FLAG_OWN_CAR</th>\n",
       "      <th>FLAG_OWN_REALTY</th>\n",
       "      <th>CNT_CHILDREN</th>\n",
       "      <th>AMT_INCOME_TOTAL</th>\n",
       "      <th>AMT_CREDIT</th>\n",
       "      <th>AMT_ANNUITY</th>\n",
       "      <th>...</th>\n",
       "      <th>EXT_SOURCE_2</th>\n",
       "      <th>EXT_SOURCE_3</th>\n",
       "      <th>OBS_30_CNT_SOCIAL_CIRCLE</th>\n",
       "      <th>DEF_30_CNT_SOCIAL_CIRCLE</th>\n",
       "      <th>OBS_60_CNT_SOCIAL_CIRCLE</th>\n",
       "      <th>DEF_60_CNT_SOCIAL_CIRCLE</th>\n",
       "      <th>DAYS_LAST_PHONE_CHANGE</th>\n",
       "      <th>FLAG_DOCUMENT_3</th>\n",
       "      <th>Age</th>\n",
       "      <th>Age_Group</th>\n",
       "    </tr>\n",
       "  </thead>\n",
       "  <tbody>\n",
       "    <tr>\n",
       "      <th>1</th>\n",
       "      <td>100003</td>\n",
       "      <td>0</td>\n",
       "      <td>Cash loans</td>\n",
       "      <td>F</td>\n",
       "      <td>N</td>\n",
       "      <td>N</td>\n",
       "      <td>0</td>\n",
       "      <td>270000.0</td>\n",
       "      <td>1293502.5</td>\n",
       "      <td>35698.5</td>\n",
       "      <td>...</td>\n",
       "      <td>0.622246</td>\n",
       "      <td>NaN</td>\n",
       "      <td>1.0</td>\n",
       "      <td>0.0</td>\n",
       "      <td>1.0</td>\n",
       "      <td>0.0</td>\n",
       "      <td>-828.0</td>\n",
       "      <td>1</td>\n",
       "      <td>45</td>\n",
       "      <td>41 to 50</td>\n",
       "    </tr>\n",
       "    <tr>\n",
       "      <th>2</th>\n",
       "      <td>100004</td>\n",
       "      <td>0</td>\n",
       "      <td>Revolving loans</td>\n",
       "      <td>M</td>\n",
       "      <td>Y</td>\n",
       "      <td>Y</td>\n",
       "      <td>0</td>\n",
       "      <td>67500.0</td>\n",
       "      <td>135000.0</td>\n",
       "      <td>6750.0</td>\n",
       "      <td>...</td>\n",
       "      <td>0.555912</td>\n",
       "      <td>0.729567</td>\n",
       "      <td>0.0</td>\n",
       "      <td>0.0</td>\n",
       "      <td>0.0</td>\n",
       "      <td>0.0</td>\n",
       "      <td>-815.0</td>\n",
       "      <td>0</td>\n",
       "      <td>52</td>\n",
       "      <td>51 to 60</td>\n",
       "    </tr>\n",
       "    <tr>\n",
       "      <th>3</th>\n",
       "      <td>100006</td>\n",
       "      <td>0</td>\n",
       "      <td>Cash loans</td>\n",
       "      <td>F</td>\n",
       "      <td>N</td>\n",
       "      <td>Y</td>\n",
       "      <td>0</td>\n",
       "      <td>135000.0</td>\n",
       "      <td>312682.5</td>\n",
       "      <td>29686.5</td>\n",
       "      <td>...</td>\n",
       "      <td>0.650442</td>\n",
       "      <td>NaN</td>\n",
       "      <td>2.0</td>\n",
       "      <td>0.0</td>\n",
       "      <td>2.0</td>\n",
       "      <td>0.0</td>\n",
       "      <td>-617.0</td>\n",
       "      <td>1</td>\n",
       "      <td>52</td>\n",
       "      <td>51 to 60</td>\n",
       "    </tr>\n",
       "    <tr>\n",
       "      <th>4</th>\n",
       "      <td>100007</td>\n",
       "      <td>0</td>\n",
       "      <td>Cash loans</td>\n",
       "      <td>M</td>\n",
       "      <td>N</td>\n",
       "      <td>Y</td>\n",
       "      <td>0</td>\n",
       "      <td>121500.0</td>\n",
       "      <td>513000.0</td>\n",
       "      <td>21865.5</td>\n",
       "      <td>...</td>\n",
       "      <td>0.322738</td>\n",
       "      <td>NaN</td>\n",
       "      <td>0.0</td>\n",
       "      <td>0.0</td>\n",
       "      <td>0.0</td>\n",
       "      <td>0.0</td>\n",
       "      <td>-1106.0</td>\n",
       "      <td>0</td>\n",
       "      <td>54</td>\n",
       "      <td>51 to 60</td>\n",
       "    </tr>\n",
       "    <tr>\n",
       "      <th>5</th>\n",
       "      <td>100008</td>\n",
       "      <td>0</td>\n",
       "      <td>Cash loans</td>\n",
       "      <td>M</td>\n",
       "      <td>N</td>\n",
       "      <td>Y</td>\n",
       "      <td>0</td>\n",
       "      <td>99000.0</td>\n",
       "      <td>490495.5</td>\n",
       "      <td>27517.5</td>\n",
       "      <td>...</td>\n",
       "      <td>0.354225</td>\n",
       "      <td>0.621226</td>\n",
       "      <td>0.0</td>\n",
       "      <td>0.0</td>\n",
       "      <td>0.0</td>\n",
       "      <td>0.0</td>\n",
       "      <td>-2536.0</td>\n",
       "      <td>1</td>\n",
       "      <td>46</td>\n",
       "      <td>41 to 50</td>\n",
       "    </tr>\n",
       "  </tbody>\n",
       "</table>\n",
       "<p>5 rows × 43 columns</p>\n",
       "</div>"
      ],
      "text/plain": [
       "   SK_ID_CURR  TARGET NAME_CONTRACT_TYPE CODE_GENDER FLAG_OWN_CAR  \\\n",
       "1      100003       0         Cash loans           F            N   \n",
       "2      100004       0    Revolving loans           M            Y   \n",
       "3      100006       0         Cash loans           F            N   \n",
       "4      100007       0         Cash loans           M            N   \n",
       "5      100008       0         Cash loans           M            N   \n",
       "\n",
       "  FLAG_OWN_REALTY  CNT_CHILDREN  AMT_INCOME_TOTAL  AMT_CREDIT  AMT_ANNUITY  \\\n",
       "1               N             0          270000.0   1293502.5      35698.5   \n",
       "2               Y             0           67500.0    135000.0       6750.0   \n",
       "3               Y             0          135000.0    312682.5      29686.5   \n",
       "4               Y             0          121500.0    513000.0      21865.5   \n",
       "5               Y             0           99000.0    490495.5      27517.5   \n",
       "\n",
       "   ...  EXT_SOURCE_2 EXT_SOURCE_3 OBS_30_CNT_SOCIAL_CIRCLE  \\\n",
       "1  ...      0.622246          NaN                      1.0   \n",
       "2  ...      0.555912     0.729567                      0.0   \n",
       "3  ...      0.650442          NaN                      2.0   \n",
       "4  ...      0.322738          NaN                      0.0   \n",
       "5  ...      0.354225     0.621226                      0.0   \n",
       "\n",
       "  DEF_30_CNT_SOCIAL_CIRCLE OBS_60_CNT_SOCIAL_CIRCLE DEF_60_CNT_SOCIAL_CIRCLE  \\\n",
       "1                      0.0                      1.0                      0.0   \n",
       "2                      0.0                      0.0                      0.0   \n",
       "3                      0.0                      2.0                      0.0   \n",
       "4                      0.0                      0.0                      0.0   \n",
       "5                      0.0                      0.0                      0.0   \n",
       "\n",
       "   DAYS_LAST_PHONE_CHANGE  FLAG_DOCUMENT_3  Age  Age_Group  \n",
       "1                  -828.0                1   45   41 to 50  \n",
       "2                  -815.0                0   52   51 to 60  \n",
       "3                  -617.0                1   52   51 to 60  \n",
       "4                 -1106.0                0   54   51 to 60  \n",
       "5                 -2536.0                1   46   41 to 50  \n",
       "\n",
       "[5 rows x 43 columns]"
      ]
     },
     "execution_count": 230,
     "metadata": {},
     "output_type": "execute_result"
    }
   ],
   "source": [
    "loan_data_target0 = loan_data[loan_data['TARGET'] == 0]\n",
    "loan_data_target1 = loan_data[loan_data['TARGET'] == 1]\n",
    "loan_data_target0.head()"
   ]
  },
  {
   "cell_type": "code",
   "execution_count": 119,
   "metadata": {},
   "outputs": [
    {
     "data": {
      "text/plain": [
       "<matplotlib.axes._subplots.AxesSubplot at 0x26e91e9d850>"
      ]
     },
     "execution_count": 119,
     "metadata": {},
     "output_type": "execute_result"
    },
    {
     "data": {
      "image/png": "[encoded data removed]",
      "text/plain": [
       "<Figure size 432x288 with 1 Axes>"
      ]
     },
     "metadata": {
      "needs_background": "light"
     },
     "output_type": "display_data"
    }
   ],
   "source": [
    "pivot_genderDF= pd.pivot_table(data = loan_data, index='CODE_GENDER', columns='TARGET',values='SK_ID_CURR',aggfunc='count')\n",
    "pivot_genderDF\n",
    "\n",
    "FemaleApplicants = loan_data[loan_data['CODE_GENDER'] == 'F'].shape[0]\n",
    "MaleApplicants = loan_data[loan_data['CODE_GENDER'] == 'M'].shape[0]\n",
    "\n",
    "pivot_genderDF.iloc[0,:] = (pivot_genderDF.iloc[0,:] / FemaleApplicants) * 100\n",
    "pivot_genderDF.iloc[1,:] = (pivot_genderDF.iloc[1,:] / MaleApplicants) * 100\n",
    "\n",
    "pivot_genderDF.plot(kind='bar')"
   ]
  },
  {
   "cell_type": "code",
   "execution_count": 55,
   "metadata": {},
   "outputs": [
    {
     "data": {
      "text/plain": [
       "Business Entity Type 3    67992\n",
       "XNA                       55374\n",
       "Self-employed             38412\n",
       "Other                     16683\n",
       "Medicine                  11193\n",
       "Business Entity Type 2    10553\n",
       "Government                10404\n",
       "School                     8893\n",
       "Trade: type 7              7831\n",
       "Kindergarten               6880\n",
       "Construction               6721\n",
       "Business Entity Type 1     5984\n",
       "Transport: type 4          5398\n",
       "Trade: type 3              3492\n",
       "Industry: type 9           3368\n",
       "Industry: type 3           3278\n",
       "Security                   3247\n",
       "Housing                    2958\n",
       "Industry: type 11          2704\n",
       "Military                   2634\n",
       "Bank                       2507\n",
       "Agriculture                2454\n",
       "Police                     2341\n",
       "Transport: type 2          2204\n",
       "Postal                     2157\n",
       "Security Ministries        1974\n",
       "Trade: type 2              1900\n",
       "Restaurant                 1811\n",
       "Services                   1575\n",
       "University                 1327\n",
       "Industry: type 7           1307\n",
       "Transport: type 3          1187\n",
       "Industry: type 1           1039\n",
       "Hotel                       966\n",
       "Electricity                 950\n",
       "Industry: type 4            877\n",
       "Trade: type 6               631\n",
       "Industry: type 5            599\n",
       "Insurance                   597\n",
       "Telecom                     577\n",
       "Emergency                   560\n",
       "Industry: type 2            458\n",
       "Advertising                 429\n",
       "Realtor                     396\n",
       "Culture                     379\n",
       "Industry: type 12           369\n",
       "Trade: type 1               348\n",
       "Mobile                      317\n",
       "Legal Services              305\n",
       "Cleaning                    260\n",
       "Transport: type 1           201\n",
       "Industry: type 6            112\n",
       "Industry: type 10           109\n",
       "Religion                     85\n",
       "Industry: type 13            67\n",
       "Trade: type 4                64\n",
       "Trade: type 5                49\n",
       "Industry: type 8             24\n",
       "Name: ORGANIZATION_TYPE, dtype: int64"
      ]
     },
     "execution_count": 55,
     "metadata": {},
     "output_type": "execute_result"
    }
   ],
   "source": [
    "#####ORGANIZATION_TYPE\n",
    "loan_data.ORGANIZATION_TYPE.value_counts()"
   ]
  },
  {
   "cell_type": "code",
   "execution_count": 45,
   "metadata": {},
   "outputs": [
    {
     "data": {
      "image/png": "[encoded data removed]",
      "text/plain": [
       "<Figure size 1080x648 with 1 Axes>"
      ]
     },
     "metadata": {
      "needs_background": "light"
     },
     "output_type": "display_data"
    }
   ],
   "source": [
    "plt.figure(figsize=[15,9])\n",
    "sns.boxplot(Sales_LoanData.AMT_INCOME_TOTAL)\n",
    "plt.show()"
   ]
  },
  {
   "cell_type": "code",
   "execution_count": 86,
   "metadata": {},
   "outputs": [
    {
     "data": {
      "text/plain": [
       "<matplotlib.axes._subplots.AxesSubplot at 0x11f2278d2b0>"
      ]
     },
     "execution_count": 86,
     "metadata": {},
     "output_type": "execute_result"
    },
    {
     "data": {
      "image/png": "[encoded data removed]",
      "text/plain": [
       "<Figure size 432x288 with 1 Axes>"
      ]
     },
     "metadata": {
      "needs_background": "light"
     },
     "output_type": "display_data"
    }
   ],
   "source": [
    "#### Clearly the data has more Cash loans than Revolving Loans\n",
    "loan_data.NAME_CONTRACT_TYPE.value_counts(normalize=True).plot.bar()"
   ]
  },
  {
   "cell_type": "code",
   "execution_count": 87,
   "metadata": {},
   "outputs": [
    {
     "data": {
      "text/html": [
       "<div>\n",
       "<style scoped>\n",
       "    .dataframe tbody tr th:only-of-type {\n",
       "        vertical-align: middle;\n",
       "    }\n",
       "\n",
       "    .dataframe tbody tr th {\n",
       "        vertical-align: top;\n",
       "    }\n",
       "\n",
       "    .dataframe thead th {\n",
       "        text-align: right;\n",
       "    }\n",
       "</style>\n",
       "<table border=\"1\" class=\"dataframe\">\n",
       "  <thead>\n",
       "    <tr style=\"text-align: right;\">\n",
       "      <th>TARGET</th>\n",
       "      <th>0</th>\n",
       "      <th>1</th>\n",
       "    </tr>\n",
       "    <tr>\n",
       "      <th>NAME_CONTRACT_TYPE</th>\n",
       "      <th></th>\n",
       "      <th></th>\n",
       "    </tr>\n",
       "  </thead>\n",
       "  <tbody>\n",
       "    <tr>\n",
       "      <th>Cash loans</th>\n",
       "      <td>91.654087</td>\n",
       "      <td>8.345913</td>\n",
       "    </tr>\n",
       "    <tr>\n",
       "      <th>Revolving loans</th>\n",
       "      <td>94.521671</td>\n",
       "      <td>5.478329</td>\n",
       "    </tr>\n",
       "  </tbody>\n",
       "</table>\n",
       "</div>"
      ],
      "text/plain": [
       "TARGET                      0         1\n",
       "NAME_CONTRACT_TYPE                     \n",
       "Cash loans          91.654087  8.345913\n",
       "Revolving loans     94.521671  5.478329"
      ]
     },
     "execution_count": 87,
     "metadata": {},
     "output_type": "execute_result"
    }
   ],
   "source": [
    "####### The defaulters or the applicants with payment difficulties is not significant in any of the cateogories.\n",
    "#### 8 % of Cash loan applicants are having payment difficulties and 5 % of Revolving loans having payment Difficulties\n",
    "\n",
    "pivot_df = pd.pivot_table(data = loan_data, index='NAME_CONTRACT_TYPE', columns='TARGET',values='SK_ID_CURR',aggfunc='count')\n",
    "pivot_df\n",
    "\n",
    "totalCashLoans = loan_data[loan_data['NAME_CONTRACT_TYPE'] == 'Cash loans'].shape[0]\n",
    "totalRevolvingLoans = loan_data[loan_data['NAME_CONTRACT_TYPE'] == 'Revolving loans'].shape[0]\n",
    "\n",
    "pivot_df.iloc[0,:] = (pivot_df.iloc[0,:] / totalCashLoans) * 100\n",
    "pivot_df.iloc[1,:] = (pivot_df.iloc[1,:] / totalRevolvingLoans) * 100\n",
    "\n",
    "pivot_df"
   ]
  },
  {
   "cell_type": "code",
   "execution_count": null,
   "metadata": {},
   "outputs": [],
   "source": []
  },
  {
   "cell_type": "code",
   "execution_count": 21,
   "metadata": {},
   "outputs": [
    {
     "data": {
      "image/png": "[encoded data removed]",
      "text/plain": [
       "<Figure size 1080x648 with 1 Axes>"
      ]
     },
     "metadata": {
      "needs_background": "light"
     },
     "output_type": "display_data"
    }
   ],
   "source": [
    "####### Of the entire data set only 1% of the records have an annuity of more than 70000 \n",
    "plt.figure(figsize=[15,9])\n",
    "sns.boxplot(curr_appl_data.AMT_ANNUITY)\n",
    "plt.show()"
   ]
  },
  {
   "cell_type": "code",
   "execution_count": 42,
   "metadata": {},
   "outputs": [
    {
     "data": {
      "text/plain": [
       "1.0019153786368618"
      ]
     },
     "execution_count": 42,
     "metadata": {},
     "output_type": "execute_result"
    }
   ],
   "source": [
    "(curr_appl_data[curr_appl_data['AMT_ANNUITY']>70000].shape[0]/curr_appl_data.shape[0])*100"
   ]
  },
  {
   "cell_type": "code",
   "execution_count": 37,
   "metadata": {},
   "outputs": [
    {
     "data": {
      "image/png": "[encoded data removed]",
      "text/plain": [
       "<Figure size 1080x648 with 1 Axes>"
      ]
     },
     "metadata": {
      "needs_background": "light"
     },
     "output_type": "display_data"
    }
   ],
   "source": [
    "plt.figure(figsize=[15,9])\n",
    "sns.boxplot(curr_appl_data.TARGET,curr_appl_data['AMT_ANNUITY'])\n",
    "plt.show()"
   ]
  },
  {
   "cell_type": "code",
   "execution_count": 33,
   "metadata": {},
   "outputs": [
    {
     "data": {
      "image/png": "[encoded data removed]",
      "text/plain": [
       "<Figure size 1080x648 with 1 Axes>"
      ]
     },
     "metadata": {
      "needs_background": "light"
     },
     "output_type": "display_data"
    }
   ],
   "source": [
    "plt.figure(figsize=[15,9])\n",
    "sns.boxplot(curr_appl_data_payDifficulties.AMT_ANNUITY)\n",
    "plt.show()"
   ]
  },
  {
   "cell_type": "code",
   "execution_count": 22,
   "metadata": {},
   "outputs": [
    {
     "data": {
      "image/png": "[encoded data removed]",
      "text/plain": [
       "<Figure size 864x648 with 1 Axes>"
      ]
     },
     "metadata": {
      "needs_background": "light"
     },
     "output_type": "display_data"
    }
   ],
   "source": [
    "plt.figure(figsize=[12,9])\n",
    "sns.boxplot(curr_appl_data_payDifficulties.AMT_CREDIT)\n",
    "plt.show()"
   ]
  },
  {
   "cell_type": "code",
   "execution_count": 23,
   "metadata": {},
   "outputs": [
    {
     "data": {
      "text/plain": [
       "(3114, 67)"
      ]
     },
     "execution_count": 23,
     "metadata": {},
     "output_type": "execute_result"
    }
   ],
   "source": [
    "curr_appl_data_payDifficulties[(curr_appl_data_payDifficulties['AMT_ANNUITY']>40000) & (curr_appl_data_payDifficulties['AMT_ANNUITY']<70000)].shape"
   ]
  },
  {
   "cell_type": "code",
   "execution_count": 34,
   "metadata": {},
   "outputs": [
    {
     "data": {
      "text/plain": [
       "(335, 67)"
      ]
     },
     "execution_count": 34,
     "metadata": {},
     "output_type": "execute_result"
    }
   ],
   "source": [
    "curr_appl_data_payDifficulties[curr_appl_data_payDifficulties['AMT_ANNUITY']>60000].shape"
   ]
  },
  {
   "cell_type": "code",
   "execution_count": 25,
   "metadata": {},
   "outputs": [
    {
     "data": {
      "text/plain": [
       "0     0.669043\n",
       "1     0.219698\n",
       "2     0.093978\n",
       "3     0.014421\n",
       "4     0.002216\n",
       "5     0.000282\n",
       "6     0.000242\n",
       "9     0.000081\n",
       "11    0.000040\n",
       "Name: CNT_CHILDREN, dtype: float64"
      ]
     },
     "execution_count": 25,
     "metadata": {},
     "output_type": "execute_result"
    }
   ],
   "source": [
    "curr_appl_data_payDifficulties['CNT_CHILDREN'].value_counts(normalize=True)"
   ]
  },
  {
   "cell_type": "code",
   "execution_count": 27,
   "metadata": {},
   "outputs": [
    {
     "data": {
      "text/plain": [
       "(0, 67)"
      ]
     },
     "execution_count": 27,
     "metadata": {},
     "output_type": "execute_result"
    }
   ],
   "source": [
    "curr_appl_data_payDifficulties[curr_appl_data_payDifficulties['AMT_INCOME_TOTAL']<1000].shape"
   ]
  }
 ],
 "metadata": {
  "kernelspec": {
   "display_name": "Python 3",
   "language": "python",
   "name": "python3"
  },
  "language_info": {
   "codemirror_mode": {
    "name": "ipython",
    "version": 3
   },
   "file_extension": ".py",
   "mimetype": "text/x-python",
   "name": "python",
   "nbconvert_exporter": "python",
   "pygments_lexer": "ipython3",
   "version": "3.8.3"
  }
 },
 "nbformat": 4,
 "nbformat_minor": 4
}
