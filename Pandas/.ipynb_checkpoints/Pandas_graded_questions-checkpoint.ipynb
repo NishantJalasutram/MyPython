{
 "cells": [
  {
   "cell_type": "code",
   "execution_count": 2,
   "metadata": {},
   "outputs": [],
   "source": [
    "import numpy as np\n",
    "import pandas as pd"
   ]
  },
  {
   "cell_type": "code",
   "execution_count": 10,
   "metadata": {},
   "outputs": [
    {
     "name": "stdout",
     "output_type": "stream",
     "text": [
      "<class 'pandas.core.frame.DataFrame'>\n",
      "RangeIndex: 59 entries, 0 to 58\n",
      "Data columns (total 8 columns):\n",
      " #   Column        Non-Null Count  Dtype  \n",
      "---  ------        --------------  -----  \n",
      " 0   Order ID      59 non-null     object \n",
      " 1   Product Name  59 non-null     object \n",
      " 2   Discount      59 non-null     float64\n",
      " 3   Sales         59 non-null     int64  \n",
      " 4   Profit        59 non-null     int64  \n",
      " 5   Quantity      59 non-null     int64  \n",
      " 6   Category      59 non-null     object \n",
      " 7   Sub-Category  59 non-null     object \n",
      "dtypes: float64(1), int64(3), object(4)\n",
      "memory usage: 3.8+ KB\n"
     ]
    }
   ],
   "source": [
    "df=pd.read_csv(\"MegaMart_sales.csv\")\n",
    "df.head()\n",
    "df.info()"
   ]
  },
  {
   "cell_type": "code",
   "execution_count": 11,
   "metadata": {},
   "outputs": [
    {
     "name": "stdout",
     "output_type": "stream",
     "text": [
      "<class 'pandas.core.frame.DataFrame'>\n",
      "RangeIndex: 9 entries, 0 to 8\n",
      "Data columns (total 8 columns):\n",
      " #   Column        Non-Null Count  Dtype  \n",
      "---  ------        --------------  -----  \n",
      " 0   Order ID      9 non-null      object \n",
      " 1   Product Name  9 non-null      object \n",
      " 2   Discount      9 non-null      float64\n",
      " 3   Sales         9 non-null      int64  \n",
      " 4   Profit        9 non-null      int64  \n",
      " 5   Quantity      9 non-null      int64  \n",
      " 6   Category      9 non-null      object \n",
      " 7   Sub-Category  9 non-null      object \n",
      "dtypes: float64(1), int64(3), object(4)\n",
      "memory usage: 704.0+ bytes\n"
     ]
    }
   ],
   "source": [
    "df_new=pd.read_csv(\"MegaMart_newsales.csv\")\n",
    "df_new.head()\n",
    "df_new.info()"
   ]
  },
  {
   "cell_type": "markdown",
   "metadata": {},
   "source": [
    "\n"
   ]
  },
  {
   "cell_type": "markdown",
   "metadata": {},
   "source": [
    "#### Combining two data frames\n",
    "Question 1: Some of the orders are stored in another csv file named `megamart_new sales`. Read the csv file, store it in a data frame and add it to the `megamart_sales` data frame. Find the total sales value of the category 'Office Supplies'  after combining the dataframes\n",
    "\n",
    "    a)7970\n",
    "    b)6964\n",
    "    c)7494\n",
    "    d)6076"
   ]
  },
  {
   "cell_type": "code",
   "execution_count": 16,
   "metadata": {},
   "outputs": [
    {
     "data": {
      "text/plain": [
       "7970"
      ]
     },
     "execution_count": 16,
     "metadata": {},
     "output_type": "execute_result"
    }
   ],
   "source": [
    "#your code here\n",
    "megamart_sales = df.append(df_new)\n",
    "megamart_sales[megamart_sales['Category'] == 'Office Supplies'].sum()['Sales']"
   ]
  },
  {
   "cell_type": "markdown",
   "metadata": {},
   "source": [
    "#### Dropping duplicates\n",
    "Question 2: There are some duplicate rows in the data frame. Drop these rows and calculate the total sales value of the category Office Supplies.\n",
    "\n",
    "    a)7156\n",
    "    b)6496\n",
    "    c)6964\n",
    "    d)6023"
   ]
  },
  {
   "cell_type": "code",
   "execution_count": 32,
   "metadata": {},
   "outputs": [
    {
     "data": {
      "text/plain": [
       "6964"
      ]
     },
     "execution_count": 32,
     "metadata": {},
     "output_type": "execute_result"
    }
   ],
   "source": [
    "#your code here\n",
    "megamart_sales.drop_duplicates(inplace=True)\n",
    "megamart_sales[megamart_sales['Category'] == 'Office Supplies'].sum()['Sales']"
   ]
  },
  {
   "cell_type": "markdown",
   "metadata": {},
   "source": [
    "#### Best category-sub category \n",
    "Question 3: Find the most profitable category and sub category combination based on the net profit.\n",
    "\n",
    "\n",
    "    a)Furniture-Bookcases\n",
    "    b)Office supplies-Appliances\n",
    "    c)Office supplies-Storage\n",
    "    d)Technology-Phones"
   ]
  },
  {
   "cell_type": "code",
   "execution_count": 40,
   "metadata": {},
   "outputs": [
    {
     "data": {
      "text/plain": [
       "Category         Sub-Category\n",
       "Furniture        Bookcases        308\n",
       "                 Chairs           -49\n",
       "                 Furnishings       74\n",
       "Office Supplies  Appliances       229\n",
       "                 Art              275\n",
       "                 Binders          156\n",
       "                 Envelopes         35\n",
       "                 Fasteners         10\n",
       "                 Labels            30\n",
       "                 Paper             15\n",
       "                 Storage          192\n",
       "                 Supplies         103\n",
       "Technology       Accessories      215\n",
       "                 Copiers            0\n",
       "                 Machines         168\n",
       "                 Phones          1618\n",
       "Name: Profit, dtype: int64"
      ]
     },
     "execution_count": 40,
     "metadata": {},
     "output_type": "execute_result"
    }
   ],
   "source": [
    "#your code here\n",
    "megamart_sales.groupby(['Category','Sub-Category']).sum()['Profit']"
   ]
  },
  {
   "cell_type": "markdown",
   "metadata": {},
   "source": [
    "#### Invalid order IDs\n",
    "Question 4: How many invalid order IDs are there in the data frame. An order id is of the form AZ-2011-Y where Y represents a whole number. A Order ID is said to be valid only if Y consists of 7 digits. Find the number of valid order order IDs in the data frame.\n",
    "    \n",
    "    a)6\n",
    "    b)7\n",
    "    c)8\n",
    "    d)9\n"
   ]
  },
  {
   "cell_type": "code",
   "execution_count": 51,
   "metadata": {},
   "outputs": [
    {
     "data": {
      "text/plain": [
       "1     AZ-2011-107716\n",
       "9     AZ-2011-122598\n",
       "17    AZ-2011-130330\n",
       "31    AZ-2011-144325\n",
       "34    AZ-2011-145488\n",
       "58    AZ-2011-176674\n",
       "8     AZ-2011-201891\n",
       "Name: Order ID, dtype: object"
      ]
     },
     "execution_count": 51,
     "metadata": {},
     "output_type": "execute_result"
    }
   ],
   "source": [
    "#your code here\n",
    "megamart_sales['Order ID'][megamart_sales['Order ID'].str.split('-',expand=True)[2].str.len() < 7]"
   ]
  },
  {
   "cell_type": "markdown",
   "metadata": {},
   "source": [
    "#### Occurence of furniture in top 25 sales\n",
    "Question 5: Find the top 25 orders based on sales value and find the number of orders which belong to furniture category.\n",
    "\n",
    "    a)2\n",
    "    b)3\n",
    "    c)4\n",
    "    d)5 "
   ]
  },
  {
   "cell_type": "code",
   "execution_count": null,
   "metadata": {},
   "outputs": [],
   "source": [
    "#your code here\n",
    "\n"
   ]
  },
  {
   "cell_type": "code",
   "execution_count": null,
   "metadata": {},
   "outputs": [],
   "source": []
  },
  {
   "cell_type": "markdown",
   "metadata": {},
   "source": [
    "#### And operation\n",
    "Question 6: Among the orders with sales>250 and profit>50, find the product name of the fourth highest order based on sales value.\n",
    "\n",
    "    a)Motorola Headset, with Caller ID\n",
    "    b)Panasonic Printer, Durable\t\n",
    "    c)Hoover Microwave, Red\t\n",
    "    d)Fellowes Lockers, Industrial\t"
   ]
  },
  {
   "cell_type": "code",
   "execution_count": null,
   "metadata": {},
   "outputs": [],
   "source": [
    "#your code here\n",
    "\n"
   ]
  },
  {
   "cell_type": "markdown",
   "metadata": {},
   "source": [
    "#### Column manipulation\n",
    "Question 7: Remove the orders with negative profit by dropping the corresponding rows with negative `Profit`. Find the product that makes the lowest profit per Quantity in the Technology category.\n",
    "\n",
    "    a) Nokia Audio Dock, with Caller ID\n",
    "    b) Logitech Keyboard, Programmable\n",
    "    c) Motorola Headset, with Caller ID\n",
    "    d) Belkin Flash Drive, Bluetooth"
   ]
  },
  {
   "cell_type": "code",
   "execution_count": null,
   "metadata": {},
   "outputs": [],
   "source": [
    "#your code here\n",
    "\n",
    "\n"
   ]
  }
 ],
 "metadata": {
  "kernelspec": {
   "display_name": "Python 3",
   "language": "python",
   "name": "python3"
  },
  "language_info": {
   "codemirror_mode": {
    "name": "ipython",
    "version": 3
   },
   "file_extension": ".py",
   "mimetype": "text/x-python",
   "name": "python",
   "nbconvert_exporter": "python",
   "pygments_lexer": "ipython3",
   "version": "3.8.3"
  }
 },
 "nbformat": 4,
 "nbformat_minor": 2
}
