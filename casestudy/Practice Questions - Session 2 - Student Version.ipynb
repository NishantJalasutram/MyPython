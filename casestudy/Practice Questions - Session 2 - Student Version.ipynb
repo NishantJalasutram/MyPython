{
 "cells": [
  {
   "cell_type": "code",
   "execution_count": 1,
   "metadata": {},
   "outputs": [],
   "source": [
    "#Import all the necessary libraries here\n",
    "import numpy as np\n",
    "import pandas as pd\n",
    "import seaborn as sns"
   ]
  },
  {
   "cell_type": "markdown",
   "metadata": {},
   "source": [
    "# Footwear\n",
    "The given dataset contains the profits generated(in %) by all the suppliers of a footwear company in 4 major cities of India - Delhi, Mumbai, Jaipur and Hyderabad. The company wants to invest more money in the city that is showing the most promise. Analyse the dataset and answer the following questions."
   ]
  },
  {
   "cell_type": "code",
   "execution_count": 2,
   "metadata": {},
   "outputs": [],
   "source": [
    "#loading data\n",
    "df=pd.read_csv(\"Footwear_v2.csv\")"
   ]
  },
  {
   "cell_type": "code",
   "execution_count": 3,
   "metadata": {},
   "outputs": [
    {
     "data": {
      "text/html": [
       "<div>\n",
       "<style scoped>\n",
       "    .dataframe tbody tr th:only-of-type {\n",
       "        vertical-align: middle;\n",
       "    }\n",
       "\n",
       "    .dataframe tbody tr th {\n",
       "        vertical-align: top;\n",
       "    }\n",
       "\n",
       "    .dataframe thead th {\n",
       "        text-align: right;\n",
       "    }\n",
       "</style>\n",
       "<table border=\"1\" class=\"dataframe\">\n",
       "  <thead>\n",
       "    <tr style=\"text-align: right;\">\n",
       "      <th></th>\n",
       "      <th>Supplier</th>\n",
       "      <th>Delhi</th>\n",
       "      <th>Mumbai</th>\n",
       "      <th>Jaipur</th>\n",
       "      <th>Hyderabad</th>\n",
       "    </tr>\n",
       "  </thead>\n",
       "  <tbody>\n",
       "    <tr>\n",
       "      <th>0</th>\n",
       "      <td>Supplier 1</td>\n",
       "      <td>4.57%</td>\n",
       "      <td>4.18%</td>\n",
       "      <td>7.90%</td>\n",
       "      <td>8.54%</td>\n",
       "    </tr>\n",
       "    <tr>\n",
       "      <th>1</th>\n",
       "      <td>supplier 2</td>\n",
       "      <td>2.60%</td>\n",
       "      <td>1.88%</td>\n",
       "      <td>8.99%</td>\n",
       "      <td>9.23%</td>\n",
       "    </tr>\n",
       "    <tr>\n",
       "      <th>2</th>\n",
       "      <td>supplier 3</td>\n",
       "      <td>2.26%</td>\n",
       "      <td>7.48%</td>\n",
       "      <td>6.71%</td>\n",
       "      <td>7.84%</td>\n",
       "    </tr>\n",
       "    <tr>\n",
       "      <th>3</th>\n",
       "      <td>supplier 4</td>\n",
       "      <td>6.47%</td>\n",
       "      <td>6.70%</td>\n",
       "      <td>7.94%</td>\n",
       "      <td>9.89%</td>\n",
       "    </tr>\n",
       "    <tr>\n",
       "      <th>4</th>\n",
       "      <td>supplier 5</td>\n",
       "      <td>6.82%</td>\n",
       "      <td>1.17%</td>\n",
       "      <td>8.54%</td>\n",
       "      <td>5.67%</td>\n",
       "    </tr>\n",
       "    <tr>\n",
       "      <th>5</th>\n",
       "      <td>supplier 6</td>\n",
       "      <td>4.68%</td>\n",
       "      <td>6.44%</td>\n",
       "      <td>6.52%</td>\n",
       "      <td>3.03%</td>\n",
       "    </tr>\n",
       "    <tr>\n",
       "      <th>6</th>\n",
       "      <td>supplier 7</td>\n",
       "      <td>7.43%</td>\n",
       "      <td>3.52%</td>\n",
       "      <td>7.12%</td>\n",
       "      <td>8.47%</td>\n",
       "    </tr>\n",
       "    <tr>\n",
       "      <th>7</th>\n",
       "      <td>supplier 8</td>\n",
       "      <td>4.49%</td>\n",
       "      <td>2.42%</td>\n",
       "      <td>7.79%</td>\n",
       "      <td>9.40%</td>\n",
       "    </tr>\n",
       "    <tr>\n",
       "      <th>8</th>\n",
       "      <td>supplier 9</td>\n",
       "      <td>5.72%</td>\n",
       "      <td>6.39%</td>\n",
       "      <td>8.99%</td>\n",
       "      <td>8.67%</td>\n",
       "    </tr>\n",
       "    <tr>\n",
       "      <th>9</th>\n",
       "      <td>supplier 10</td>\n",
       "      <td>5.64%</td>\n",
       "      <td>7.79%</td>\n",
       "      <td>7.57%</td>\n",
       "      <td>8.50%</td>\n",
       "    </tr>\n",
       "    <tr>\n",
       "      <th>10</th>\n",
       "      <td>supplier 11</td>\n",
       "      <td>6.27%</td>\n",
       "      <td>5.94%</td>\n",
       "      <td>9.21%</td>\n",
       "      <td>6.40%</td>\n",
       "    </tr>\n",
       "    <tr>\n",
       "      <th>11</th>\n",
       "      <td>supplier 12</td>\n",
       "      <td>4.88%</td>\n",
       "      <td>9.07%</td>\n",
       "      <td>7.10%</td>\n",
       "      <td>8.80%</td>\n",
       "    </tr>\n",
       "    <tr>\n",
       "      <th>12</th>\n",
       "      <td>supplier 13</td>\n",
       "      <td>5.15%</td>\n",
       "      <td>2.44%</td>\n",
       "      <td>9.05%</td>\n",
       "      <td>5.76%</td>\n",
       "    </tr>\n",
       "    <tr>\n",
       "      <th>13</th>\n",
       "      <td>supplier 14</td>\n",
       "      <td>8.52%</td>\n",
       "      <td>2.42%</td>\n",
       "      <td>9.50%</td>\n",
       "      <td>11.49%</td>\n",
       "    </tr>\n",
       "    <tr>\n",
       "      <th>14</th>\n",
       "      <td>supplier 15</td>\n",
       "      <td>11.96%</td>\n",
       "      <td>6.17%</td>\n",
       "      <td>4.54%</td>\n",
       "      <td>10.49%</td>\n",
       "    </tr>\n",
       "    <tr>\n",
       "      <th>15</th>\n",
       "      <td>supplier 16</td>\n",
       "      <td>5.26%</td>\n",
       "      <td>0.29%</td>\n",
       "      <td>7.60%</td>\n",
       "      <td>6.02%</td>\n",
       "    </tr>\n",
       "    <tr>\n",
       "      <th>16</th>\n",
       "      <td>supplier 17</td>\n",
       "      <td>8.13%</td>\n",
       "      <td>8.50%</td>\n",
       "      <td>8.95%</td>\n",
       "      <td>4.64%</td>\n",
       "    </tr>\n",
       "    <tr>\n",
       "      <th>17</th>\n",
       "      <td>supplier 18</td>\n",
       "      <td>5.93%</td>\n",
       "      <td>5.57%</td>\n",
       "      <td>9.79%</td>\n",
       "      <td>8.14%</td>\n",
       "    </tr>\n",
       "    <tr>\n",
       "      <th>18</th>\n",
       "      <td>supplier 19</td>\n",
       "      <td>6.05%</td>\n",
       "      <td>1.14%</td>\n",
       "      <td>4.92%</td>\n",
       "      <td>8.71%</td>\n",
       "    </tr>\n",
       "    <tr>\n",
       "      <th>19</th>\n",
       "      <td>supplier 20</td>\n",
       "      <td>6.67%</td>\n",
       "      <td>3.67%</td>\n",
       "      <td>8.35%</td>\n",
       "      <td>12.31%</td>\n",
       "    </tr>\n",
       "    <tr>\n",
       "      <th>20</th>\n",
       "      <td>supplier 21</td>\n",
       "      <td>5.34%</td>\n",
       "      <td>5.82%</td>\n",
       "      <td>6.99%</td>\n",
       "      <td>8.85%</td>\n",
       "    </tr>\n",
       "    <tr>\n",
       "      <th>21</th>\n",
       "      <td>supplier 22</td>\n",
       "      <td>6.41%</td>\n",
       "      <td>4.60%</td>\n",
       "      <td>9.87%</td>\n",
       "      <td>1.37%</td>\n",
       "    </tr>\n",
       "    <tr>\n",
       "      <th>22</th>\n",
       "      <td>supplier 23</td>\n",
       "      <td>5.44%</td>\n",
       "      <td>3.09%</td>\n",
       "      <td>3.40%</td>\n",
       "      <td>6.38%</td>\n",
       "    </tr>\n",
       "    <tr>\n",
       "      <th>23</th>\n",
       "      <td>supplier 24</td>\n",
       "      <td>6.11%</td>\n",
       "      <td>3.68%</td>\n",
       "      <td>8.00%</td>\n",
       "      <td>7.18%</td>\n",
       "    </tr>\n",
       "    <tr>\n",
       "      <th>24</th>\n",
       "      <td>supplier 25</td>\n",
       "      <td>6.35%</td>\n",
       "      <td>2.43%</td>\n",
       "      <td>7.36%</td>\n",
       "      <td>7.34%</td>\n",
       "    </tr>\n",
       "    <tr>\n",
       "      <th>25</th>\n",
       "      <td>supplier 26</td>\n",
       "      <td>5.95%</td>\n",
       "      <td>5.10%</td>\n",
       "      <td>9.40%</td>\n",
       "      <td>7.81%</td>\n",
       "    </tr>\n",
       "    <tr>\n",
       "      <th>26</th>\n",
       "      <td>supplier 27</td>\n",
       "      <td>10.70%</td>\n",
       "      <td>9.85%</td>\n",
       "      <td>8.75%</td>\n",
       "      <td>4.09%</td>\n",
       "    </tr>\n",
       "    <tr>\n",
       "      <th>27</th>\n",
       "      <td>supplier 28</td>\n",
       "      <td>5.23%</td>\n",
       "      <td>1.57%</td>\n",
       "      <td>5.68%</td>\n",
       "      <td>10.90%</td>\n",
       "    </tr>\n",
       "    <tr>\n",
       "      <th>28</th>\n",
       "      <td>supplier 29</td>\n",
       "      <td>9.02%</td>\n",
       "      <td>3.47%</td>\n",
       "      <td>8.12%</td>\n",
       "      <td>5.86%</td>\n",
       "    </tr>\n",
       "    <tr>\n",
       "      <th>29</th>\n",
       "      <td>supplier 30</td>\n",
       "      <td>9.67%</td>\n",
       "      <td>3.86%</td>\n",
       "      <td>6.22%</td>\n",
       "      <td>10.05%</td>\n",
       "    </tr>\n",
       "  </tbody>\n",
       "</table>\n",
       "</div>"
      ],
      "text/plain": [
       "       Supplier   Delhi Mumbai Jaipur Hyderabad\n",
       "0    Supplier 1   4.57%  4.18%  7.90%     8.54%\n",
       "1    supplier 2   2.60%  1.88%  8.99%     9.23%\n",
       "2    supplier 3   2.26%  7.48%  6.71%     7.84%\n",
       "3    supplier 4   6.47%  6.70%  7.94%     9.89%\n",
       "4    supplier 5   6.82%  1.17%  8.54%     5.67%\n",
       "5    supplier 6   4.68%  6.44%  6.52%     3.03%\n",
       "6    supplier 7   7.43%  3.52%  7.12%     8.47%\n",
       "7    supplier 8   4.49%  2.42%  7.79%     9.40%\n",
       "8    supplier 9   5.72%  6.39%  8.99%     8.67%\n",
       "9   supplier 10   5.64%  7.79%  7.57%     8.50%\n",
       "10  supplier 11   6.27%  5.94%  9.21%     6.40%\n",
       "11  supplier 12   4.88%  9.07%  7.10%     8.80%\n",
       "12  supplier 13   5.15%  2.44%  9.05%     5.76%\n",
       "13  supplier 14   8.52%  2.42%  9.50%    11.49%\n",
       "14  supplier 15  11.96%  6.17%  4.54%    10.49%\n",
       "15  supplier 16   5.26%  0.29%  7.60%     6.02%\n",
       "16  supplier 17   8.13%  8.50%  8.95%     4.64%\n",
       "17  supplier 18   5.93%  5.57%  9.79%     8.14%\n",
       "18  supplier 19   6.05%  1.14%  4.92%     8.71%\n",
       "19  supplier 20   6.67%  3.67%  8.35%    12.31%\n",
       "20  supplier 21   5.34%  5.82%  6.99%     8.85%\n",
       "21  supplier 22   6.41%  4.60%  9.87%     1.37%\n",
       "22  supplier 23   5.44%  3.09%  3.40%     6.38%\n",
       "23  supplier 24   6.11%  3.68%  8.00%     7.18%\n",
       "24  supplier 25   6.35%  2.43%  7.36%     7.34%\n",
       "25  supplier 26   5.95%  5.10%  9.40%     7.81%\n",
       "26  supplier 27  10.70%  9.85%  8.75%     4.09%\n",
       "27  supplier 28   5.23%  1.57%  5.68%    10.90%\n",
       "28  supplier 29   9.02%  3.47%  8.12%     5.86%\n",
       "29  supplier 30   9.67%  3.86%  6.22%    10.05%"
      ]
     },
     "execution_count": 3,
     "metadata": {},
     "output_type": "execute_result"
    }
   ],
   "source": [
    "df"
   ]
  },
  {
   "cell_type": "markdown",
   "metadata": {},
   "source": [
    "## 1. Average\n",
    "Q1)The absolute difference in the average profit percentages of Delhi and Mumbai comes out to be approximately ____\n",
    "\n",
    "- a) 1.67\n",
    "\n",
    "- b) 1.57\n",
    "\n",
    "- c) 1.77\n",
    "\n",
    "- d) 1.47\n"
   ]
  },
  {
   "cell_type": "code",
   "execution_count": 4,
   "metadata": {},
   "outputs": [
    {
     "name": "stdout",
     "output_type": "stream",
     "text": [
      "<class 'pandas.core.frame.DataFrame'>\n",
      "RangeIndex: 30 entries, 0 to 29\n",
      "Data columns (total 5 columns):\n",
      " #   Column     Non-Null Count  Dtype \n",
      "---  ------     --------------  ----- \n",
      " 0   Supplier   30 non-null     object\n",
      " 1   Delhi      30 non-null     object\n",
      " 2   Mumbai     30 non-null     object\n",
      " 3   Jaipur     30 non-null     object\n",
      " 4   Hyderabad  30 non-null     object\n",
      "dtypes: object(5)\n",
      "memory usage: 1.3+ KB\n"
     ]
    }
   ],
   "source": [
    "#Your code here\n",
    "#df.info()\n",
    "#df[\"Delhi\"] = df[\"Delhi\"].apply(lambda x:x.replace('%','').astype(float64))\n",
    "#df[\"Mumbai\"] = df[\"Mumbai\"].apply(lambda x:float(x.replace('%','')))\n",
    "#df[\"Jaipur\"] = df[\"Jaipur\"].apply(lambda x:x.replace('%','').astype(float64))\n",
    "#df[\"Hyderabad\"] = df[\"Hyderabad\"].apply(lambda x:float(x.replace('%','')))\n",
    "\n",
    "df.info()"
   ]
  },
  {
   "cell_type": "code",
   "execution_count": 11,
   "metadata": {},
   "outputs": [],
   "source": [
    "df['Jaipur'] = df['Jaipur'].str.replace('%','')\n",
    "df['Mumbai'] = df['Mumbai'].str.replace('%','')\n",
    "df['Delhi'] = df['Delhi'].str.replace('%','')\n",
    "df['Hyderabad'] = df['Hyderabad'].str.replace('%','')\n",
    "df[\"Jaipur\"] = df[\"Jaipur\"].astype(\"float64\")\n",
    "df['Mumbai'] = df['Mumbai'].astype(\"float64\")\n",
    "df['Delhi'] = df['Delhi'].astype(\"float64\")\n",
    "df['Hyderabad'] = df['Hyderabad'].astype(\"float64\")"
   ]
  },
  {
   "cell_type": "code",
   "execution_count": 12,
   "metadata": {},
   "outputs": [
    {
     "data": {
      "text/plain": [
       "1.7689999999999984"
      ]
     },
     "execution_count": 12,
     "metadata": {},
     "output_type": "execute_result"
    }
   ],
   "source": [
    "df[\"Delhi\"].mean() - df[\"Mumbai\"].mean() "
   ]
  },
  {
   "cell_type": "markdown",
   "metadata": {},
   "source": [
    "## 2. Box Plots\n",
    "\n",
    "Plot a box plot to analyse the spread of profits for each of the cities. Which city has the highest profit value at the upper fence in the box plot?\n",
    "\n",
    "\n",
    "\n",
    "- a) Delhi\n",
    "\n",
    "- b) Mumbai\n",
    "\n",
    "- c) Hyderabad\n",
    "\n",
    "- d) Jaipur\n"
   ]
  },
  {
   "cell_type": "code",
   "execution_count": 15,
   "metadata": {},
   "outputs": [
    {
     "data": {
      "text/plain": [
       "<matplotlib.axes._subplots.AxesSubplot at 0x1b7562cb0d0>"
      ]
     },
     "execution_count": 15,
     "metadata": {},
     "output_type": "execute_result"
    },
    {
     "data": {
      "image/png": "[encoded data removed]",
      "text/plain": [
       "<Figure size 1080x720 with 1 Axes>"
      ]
     },
     "metadata": {
      "needs_background": "light"
     },
     "output_type": "display_data"
    }
   ],
   "source": [
    "df.plot(kind='box',figsize=(15,10))"
   ]
  },
  {
   "cell_type": "code",
   "execution_count": null,
   "metadata": {},
   "outputs": [],
   "source": [
    "#Your code here\n",
    "plt.figure(figsize=[9,7])\n",
    "sns.boxplot(df['Content Rating'], inp1.Rating)\n",
    "plt.show()"
   ]
  },
  {
   "cell_type": "markdown",
   "metadata": {},
   "source": [
    "# Crypto Currencies"
   ]
  },
  {
   "cell_type": "markdown",
   "metadata": {},
   "source": [
    "The following datasets contain the prices of some popular cryptocurrencies such as bitcoin, litecoin, ethereum, monero, neo, quantum and ripple.Now, you would like to know how the prices of these currencies vary with each other.\n",
    "The cryptocurrencies and the corresponding columns in the dataset are as follows:\n",
    "\n",
    "\n",
    "- bitcoin (Close_btc)\n",
    "- litecoin(Close_ltc)\n",
    "- ethereum(Close_et)\n",
    "- monero(Close_mon)\n",
    "- neo(Close_neo)"
   ]
  },
  {
   "cell_type": "code",
   "execution_count": 24,
   "metadata": {},
   "outputs": [],
   "source": [
    "#loading data\n",
    "df=pd.read_csv(\"crypto.csv\")"
   ]
  },
  {
   "cell_type": "markdown",
   "metadata": {},
   "source": [
    "## 1. Correct Statements\n",
    "Q1)Create a pair plot with all these columns and choose the correct statements from the given ones:\n",
    "\n",
    "I)There is a good trend between litecoin and monero, one increases as the other\n",
    "\n",
    "II)There is a weak trend between bitcoin and neo.\n",
    "\n",
    "\n",
    "- a)I\n",
    "\n",
    "- b)II\n",
    "\n",
    "- c)Both I and II\n",
    "\n",
    "- d)None of the above.\n"
   ]
  },
  {
   "cell_type": "code",
   "execution_count": 41,
   "metadata": {},
   "outputs": [
    {
     "data": {
      "text/html": [
       "<div>\n",
       "<style scoped>\n",
       "    .dataframe tbody tr th:only-of-type {\n",
       "        vertical-align: middle;\n",
       "    }\n",
       "\n",
       "    .dataframe tbody tr th {\n",
       "        vertical-align: top;\n",
       "    }\n",
       "\n",
       "    .dataframe thead th {\n",
       "        text-align: right;\n",
       "    }\n",
       "</style>\n",
       "<table border=\"1\" class=\"dataframe\">\n",
       "  <thead>\n",
       "    <tr style=\"text-align: right;\">\n",
       "      <th></th>\n",
       "      <th>Close_btc</th>\n",
       "      <th>Close_et</th>\n",
       "      <th>Close_ltc</th>\n",
       "      <th>Close_mon</th>\n",
       "      <th>Close_neo</th>\n",
       "      <th>Close_qt</th>\n",
       "    </tr>\n",
       "  </thead>\n",
       "  <tbody>\n",
       "    <tr>\n",
       "      <th>Close_btc</th>\n",
       "      <td>1.000000</td>\n",
       "      <td>0.449322</td>\n",
       "      <td>0.657963</td>\n",
       "      <td>0.697058</td>\n",
       "      <td>0.734797</td>\n",
       "      <td>0.381921</td>\n",
       "    </tr>\n",
       "    <tr>\n",
       "      <th>Close_et</th>\n",
       "      <td>0.449322</td>\n",
       "      <td>1.000000</td>\n",
       "      <td>0.490281</td>\n",
       "      <td>0.539489</td>\n",
       "      <td>0.481910</td>\n",
       "      <td>0.791373</td>\n",
       "    </tr>\n",
       "    <tr>\n",
       "      <th>Close_ltc</th>\n",
       "      <td>0.657963</td>\n",
       "      <td>0.490281</td>\n",
       "      <td>1.000000</td>\n",
       "      <td>0.793368</td>\n",
       "      <td>0.641385</td>\n",
       "      <td>0.447711</td>\n",
       "    </tr>\n",
       "    <tr>\n",
       "      <th>Close_mon</th>\n",
       "      <td>0.697058</td>\n",
       "      <td>0.539489</td>\n",
       "      <td>0.793368</td>\n",
       "      <td>1.000000</td>\n",
       "      <td>0.668514</td>\n",
       "      <td>0.518419</td>\n",
       "    </tr>\n",
       "    <tr>\n",
       "      <th>Close_neo</th>\n",
       "      <td>0.734797</td>\n",
       "      <td>0.481910</td>\n",
       "      <td>0.641385</td>\n",
       "      <td>0.668514</td>\n",
       "      <td>1.000000</td>\n",
       "      <td>0.556858</td>\n",
       "    </tr>\n",
       "    <tr>\n",
       "      <th>Close_qt</th>\n",
       "      <td>0.381921</td>\n",
       "      <td>0.791373</td>\n",
       "      <td>0.447711</td>\n",
       "      <td>0.518419</td>\n",
       "      <td>0.556858</td>\n",
       "      <td>1.000000</td>\n",
       "    </tr>\n",
       "  </tbody>\n",
       "</table>\n",
       "</div>"
      ],
      "text/plain": [
       "           Close_btc  Close_et  Close_ltc  Close_mon  Close_neo  Close_qt\n",
       "Close_btc   1.000000  0.449322   0.657963   0.697058   0.734797  0.381921\n",
       "Close_et    0.449322  1.000000   0.490281   0.539489   0.481910  0.791373\n",
       "Close_ltc   0.657963  0.490281   1.000000   0.793368   0.641385  0.447711\n",
       "Close_mon   0.697058  0.539489   0.793368   1.000000   0.668514  0.518419\n",
       "Close_neo   0.734797  0.481910   0.641385   0.668514   1.000000  0.556858\n",
       "Close_qt    0.381921  0.791373   0.447711   0.518419   0.556858  1.000000"
      ]
     },
     "execution_count": 41,
     "metadata": {},
     "output_type": "execute_result"
    }
   ],
   "source": [
    "#Your code here\n",
    "df.corr()"
   ]
  },
  {
   "cell_type": "markdown",
   "metadata": {},
   "source": [
    "## 2. Heatmap\n",
    "\n",
    "As mentioned earlier, Heat Maps are predominantly utilised for analysing Correlation Matrix. A high positive correlation (values near 1) means a good positive trend - if one increases, then the other also increases. A negative correlation on the other hand(values near -1) indicate good negative trend - if one increases, then the other decreases. A value near 0 indicates no correlation, as in one variable doesn’t affect the other. "
   ]
  },
  {
   "cell_type": "markdown",
   "metadata": {},
   "source": [
    "##### Correlation Matrix\n",
    "Here, you can create a correlation matrix of the closing prices by passing the **df.corr()** function, (where df is the dataframe's name) and storing it in a variable. The code will be as follows\n",
    "\n",
    "df2 = df.corr()\n",
    "\n",
    "\n",
    "After that use this variable df2 to plot a heatmap and choose the correct option. \n",
    "\n",
    "Check out this link for creating a correlation matrix:https://pandas.pydata.org/pandas-docs/stable/reference/api/pandas.DataFrame.corr.html"
   ]
  },
  {
   "cell_type": "markdown",
   "metadata": {},
   "source": [
    "Q)2 - Create a correlation matrix for all the prices and then plot a heatmap to analyse the trends. Which of the following options is/are correct?\n",
    "\n",
    "- a)Ethereum and Quantum have high correlation \n",
    "\n",
    "- b)Neo and Bitcoin have pretty low correlation\n",
    "\n",
    "- c)Ethereum has similar correlation with litecoin and neo\n"
   ]
  },
  {
   "cell_type": "code",
   "execution_count": 44,
   "metadata": {},
   "outputs": [
    {
     "data": {
      "text/html": [
       "<div>\n",
       "<style scoped>\n",
       "    .dataframe tbody tr th:only-of-type {\n",
       "        vertical-align: middle;\n",
       "    }\n",
       "\n",
       "    .dataframe tbody tr th {\n",
       "        vertical-align: top;\n",
       "    }\n",
       "\n",
       "    .dataframe thead th {\n",
       "        text-align: right;\n",
       "    }\n",
       "</style>\n",
       "<table border=\"1\" class=\"dataframe\">\n",
       "  <thead>\n",
       "    <tr style=\"text-align: right;\">\n",
       "      <th></th>\n",
       "      <th>Close_btc</th>\n",
       "      <th>Close_et</th>\n",
       "      <th>Close_ltc</th>\n",
       "      <th>Close_mon</th>\n",
       "      <th>Close_neo</th>\n",
       "      <th>Close_qt</th>\n",
       "    </tr>\n",
       "  </thead>\n",
       "  <tbody>\n",
       "    <tr>\n",
       "      <th>Close_btc</th>\n",
       "      <td>1.000000</td>\n",
       "      <td>0.449322</td>\n",
       "      <td>0.657963</td>\n",
       "      <td>0.697058</td>\n",
       "      <td>0.734797</td>\n",
       "      <td>0.381921</td>\n",
       "    </tr>\n",
       "    <tr>\n",
       "      <th>Close_et</th>\n",
       "      <td>0.449322</td>\n",
       "      <td>1.000000</td>\n",
       "      <td>0.490281</td>\n",
       "      <td>0.539489</td>\n",
       "      <td>0.481910</td>\n",
       "      <td>0.791373</td>\n",
       "    </tr>\n",
       "    <tr>\n",
       "      <th>Close_ltc</th>\n",
       "      <td>0.657963</td>\n",
       "      <td>0.490281</td>\n",
       "      <td>1.000000</td>\n",
       "      <td>0.793368</td>\n",
       "      <td>0.641385</td>\n",
       "      <td>0.447711</td>\n",
       "    </tr>\n",
       "    <tr>\n",
       "      <th>Close_mon</th>\n",
       "      <td>0.697058</td>\n",
       "      <td>0.539489</td>\n",
       "      <td>0.793368</td>\n",
       "      <td>1.000000</td>\n",
       "      <td>0.668514</td>\n",
       "      <td>0.518419</td>\n",
       "    </tr>\n",
       "    <tr>\n",
       "      <th>Close_neo</th>\n",
       "      <td>0.734797</td>\n",
       "      <td>0.481910</td>\n",
       "      <td>0.641385</td>\n",
       "      <td>0.668514</td>\n",
       "      <td>1.000000</td>\n",
       "      <td>0.556858</td>\n",
       "    </tr>\n",
       "    <tr>\n",
       "      <th>Close_qt</th>\n",
       "      <td>0.381921</td>\n",
       "      <td>0.791373</td>\n",
       "      <td>0.447711</td>\n",
       "      <td>0.518419</td>\n",
       "      <td>0.556858</td>\n",
       "      <td>1.000000</td>\n",
       "    </tr>\n",
       "  </tbody>\n",
       "</table>\n",
       "</div>"
      ],
      "text/plain": [
       "           Close_btc  Close_et  Close_ltc  Close_mon  Close_neo  Close_qt\n",
       "Close_btc   1.000000  0.449322   0.657963   0.697058   0.734797  0.381921\n",
       "Close_et    0.449322  1.000000   0.490281   0.539489   0.481910  0.791373\n",
       "Close_ltc   0.657963  0.490281   1.000000   0.793368   0.641385  0.447711\n",
       "Close_mon   0.697058  0.539489   0.793368   1.000000   0.668514  0.518419\n",
       "Close_neo   0.734797  0.481910   0.641385   0.668514   1.000000  0.556858\n",
       "Close_qt    0.381921  0.791373   0.447711   0.518419   0.556858  1.000000"
      ]
     },
     "execution_count": 44,
     "metadata": {},
     "output_type": "execute_result"
    }
   ],
   "source": [
    "#Your code here\n",
    "df2 = df.corr()\n",
    "df2"
   ]
  },
  {
   "cell_type": "code",
   "execution_count": 52,
   "metadata": {},
   "outputs": [
    {
     "data": {
      "text/html": [
       "<div>\n",
       "<style scoped>\n",
       "    .dataframe tbody tr th:only-of-type {\n",
       "        vertical-align: middle;\n",
       "    }\n",
       "\n",
       "    .dataframe tbody tr th {\n",
       "        vertical-align: top;\n",
       "    }\n",
       "\n",
       "    .dataframe thead th {\n",
       "        text-align: right;\n",
       "    }\n",
       "</style>\n",
       "<table border=\"1\" class=\"dataframe\">\n",
       "  <thead>\n",
       "    <tr style=\"text-align: right;\">\n",
       "      <th></th>\n",
       "      <th>Close_btc</th>\n",
       "      <th>Close_et</th>\n",
       "      <th>Close_ltc</th>\n",
       "      <th>Close_mon</th>\n",
       "      <th>Close_neo</th>\n",
       "      <th>Close_qt</th>\n",
       "    </tr>\n",
       "  </thead>\n",
       "  <tbody>\n",
       "    <tr>\n",
       "      <th>0</th>\n",
       "      <td>7144.38</td>\n",
       "      <td>294.66</td>\n",
       "      <td>61.30</td>\n",
       "      <td>99.76</td>\n",
       "      <td>26.230000</td>\n",
       "      <td>11.21</td>\n",
       "    </tr>\n",
       "    <tr>\n",
       "      <th>1</th>\n",
       "      <td>7022.76</td>\n",
       "      <td>298.89</td>\n",
       "      <td>55.17</td>\n",
       "      <td>102.92</td>\n",
       "      <td>26.320000</td>\n",
       "      <td>10.44</td>\n",
       "    </tr>\n",
       "    <tr>\n",
       "      <th>2</th>\n",
       "      <td>7407.41</td>\n",
       "      <td>296.26</td>\n",
       "      <td>54.75</td>\n",
       "      <td>86.35</td>\n",
       "      <td>26.380000</td>\n",
       "      <td>10.13</td>\n",
       "    </tr>\n",
       "    <tr>\n",
       "      <th>3</th>\n",
       "      <td>7379.95</td>\n",
       "      <td>300.47</td>\n",
       "      <td>55.04</td>\n",
       "      <td>87.30</td>\n",
       "      <td>26.490000</td>\n",
       "      <td>10.05</td>\n",
       "    </tr>\n",
       "    <tr>\n",
       "      <th>4</th>\n",
       "      <td>7207.76</td>\n",
       "      <td>305.71</td>\n",
       "      <td>56.18</td>\n",
       "      <td>87.99</td>\n",
       "      <td>26.820000</td>\n",
       "      <td>10.38</td>\n",
       "    </tr>\n",
       "    <tr>\n",
       "      <th>...</th>\n",
       "      <td>...</td>\n",
       "      <td>...</td>\n",
       "      <td>...</td>\n",
       "      <td>...</td>\n",
       "      <td>...</td>\n",
       "      <td>...</td>\n",
       "    </tr>\n",
       "    <tr>\n",
       "      <th>163</th>\n",
       "      <td>2155.80</td>\n",
       "      <td>170.51</td>\n",
       "      <td>24.22</td>\n",
       "      <td>36.84</td>\n",
       "      <td>0.930106</td>\n",
       "      <td>4.62</td>\n",
       "    </tr>\n",
       "    <tr>\n",
       "      <th>164</th>\n",
       "      <td>2038.87</td>\n",
       "      <td>157.76</td>\n",
       "      <td>23.74</td>\n",
       "      <td>33.41</td>\n",
       "      <td>0.982348</td>\n",
       "      <td>4.53</td>\n",
       "    </tr>\n",
       "    <tr>\n",
       "      <th>165</th>\n",
       "      <td>2202.42</td>\n",
       "      <td>160.40</td>\n",
       "      <td>23.75</td>\n",
       "      <td>38.71</td>\n",
       "      <td>0.826549</td>\n",
       "      <td>4.10</td>\n",
       "    </tr>\n",
       "    <tr>\n",
       "      <th>166</th>\n",
       "      <td>2304.98</td>\n",
       "      <td>174.45</td>\n",
       "      <td>29.90</td>\n",
       "      <td>40.12</td>\n",
       "      <td>1.110000</td>\n",
       "      <td>4.66</td>\n",
       "    </tr>\n",
       "    <tr>\n",
       "      <th>167</th>\n",
       "      <td>2443.64</td>\n",
       "      <td>190.05</td>\n",
       "      <td>34.45</td>\n",
       "      <td>45.38</td>\n",
       "      <td>1.760000</td>\n",
       "      <td>6.19</td>\n",
       "    </tr>\n",
       "  </tbody>\n",
       "</table>\n",
       "<p>168 rows × 6 columns</p>\n",
       "</div>"
      ],
      "text/plain": [
       "     Close_btc  Close_et  Close_ltc  Close_mon  Close_neo  Close_qt\n",
       "0      7144.38    294.66      61.30      99.76  26.230000     11.21\n",
       "1      7022.76    298.89      55.17     102.92  26.320000     10.44\n",
       "2      7407.41    296.26      54.75      86.35  26.380000     10.13\n",
       "3      7379.95    300.47      55.04      87.30  26.490000     10.05\n",
       "4      7207.76    305.71      56.18      87.99  26.820000     10.38\n",
       "..         ...       ...        ...        ...        ...       ...\n",
       "163    2155.80    170.51      24.22      36.84   0.930106      4.62\n",
       "164    2038.87    157.76      23.74      33.41   0.982348      4.53\n",
       "165    2202.42    160.40      23.75      38.71   0.826549      4.10\n",
       "166    2304.98    174.45      29.90      40.12   1.110000      4.66\n",
       "167    2443.64    190.05      34.45      45.38   1.760000      6.19\n",
       "\n",
       "[168 rows x 6 columns]"
      ]
     },
     "execution_count": 52,
     "metadata": {},
     "output_type": "execute_result"
    },
    {
     "data": {
      "image/png": "[encoded data removed]",
      "text/plain": [
       "<Figure size 432x288 with 2 Axes>"
      ]
     },
     "metadata": {
      "needs_background": "light"
     },
     "output_type": "display_data"
    }
   ],
   "source": [
    "sns.heatmap(df2)\n",
    "df"
   ]
  },
  {
   "cell_type": "code",
   "execution_count": 54,
   "metadata": {},
   "outputs": [
    {
     "data": {
      "text/plain": [
       "<matplotlib.axes._subplots.AxesSubplot at 0x1b759772910>"
      ]
     },
     "execution_count": 54,
     "metadata": {},
     "output_type": "execute_result"
    },
    {
     "data": {
      "image/png": "[encoded data removed]",
      "text/plain": [
       "<Figure size 432x288 with 1 Axes>"
      ]
     },
     "metadata": {
      "needs_background": "light"
     },
     "output_type": "display_data"
    }
   ],
   "source": [
    "sns.distplot(df.Close_btc)"
   ]
  },
  {
   "cell_type": "code",
   "execution_count": 56,
   "metadata": {},
   "outputs": [
    {
     "data": {
      "text/plain": [
       "<seaborn.axisgrid.JointGrid at 0x1b7598d4670>"
      ]
     },
     "execution_count": 56,
     "metadata": {},
     "output_type": "execute_result"
    },
    {
     "data": {
      "image/png": "[encoded data removed]",
      "text/plain": [
       "<Figure size 432x432 with 3 Axes>"
      ]
     },
     "metadata": {
      "needs_background": "light"
     },
     "output_type": "display_data"
    }
   ],
   "source": [
    "sns.jointplot(df.Close_btc,df.Close_et)"
   ]
  },
  {
   "cell_type": "code",
   "execution_count": 58,
   "metadata": {},
   "outputs": [
    {
     "data": {
      "text/plain": [
       "<matplotlib.axes._subplots.AxesSubplot at 0x1b75b8307c0>"
      ]
     },
     "execution_count": 58,
     "metadata": {},
     "output_type": "execute_result"
    },
    {
     "data": {
      "image/png": "[encoded data removed]",
      "text/plain": [
       "<Figure size 432x288 with 1 Axes>"
      ]
     },
     "metadata": {
      "needs_background": "light"
     },
     "output_type": "display_data"
    }
   ],
   "source": [
    "sns.violinplot(df.Close_btc)"
   ]
  },
  {
   "cell_type": "code",
   "execution_count": 72,
   "metadata": {},
   "outputs": [
    {
     "data": {
      "text/plain": [
       "<matplotlib.axes._subplots.AxesSubplot at 0x1b75e1e11c0>"
      ]
     },
     "execution_count": 72,
     "metadata": {},
     "output_type": "execute_result"
    },
    {
     "data": {
      "image/png": "[encoded data removed]",
      "text/plain": [
       "<Figure size 432x288 with 1 Axes>"
      ]
     },
     "metadata": {
      "needs_background": "light"
     },
     "output_type": "display_data"
    }
   ],
   "source": [
    "df.mean().plot(kind='bar')"
   ]
  }
 ],
 "metadata": {
  "kernelspec": {
   "display_name": "Python 3",
   "language": "python",
   "name": "python3"
  },
  "language_info": {
   "codemirror_mode": {
    "name": "ipython",
    "version": 3
   },
   "file_extension": ".py",
   "mimetype": "text/x-python",
   "name": "python",
   "nbconvert_exporter": "python",
   "pygments_lexer": "ipython3",
   "version": "3.8.3"
  }
 },
 "nbformat": 4,
 "nbformat_minor": 2
}
